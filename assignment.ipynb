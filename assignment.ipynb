{
  "nbformat": 4,
  "nbformat_minor": 0,
  "metadata": {
    "colab": {
      "provenance": []
    },
    "kernelspec": {
      "name": "python3",
      "display_name": "Python 3"
    },
    "language_info": {
      "name": "python"
    }
  },
  "cells": [
    {
      "cell_type": "markdown",
      "source": [
        "#Python Basics Questions\n",
        "\n",
        "1. What is Python, and why is it popular?\n",
        "  - Python is a high-level, interpreted programming language known for its simplicity and readability.Python's design philosophy emphasizes code readability, using significant indentation and a clean syntax that makes it easy to learn and use.It was created by Guido van Rossum and first released in 1991.\n",
        "\n",
        "  It is mostly used for Web Development (Django, Flask),Data Science & Analytics (Pandas, NumPy, Matplotlib), Machine Learning & AI (TensorFlow, Scikit-Learn) ,Automation & Scripting (Automating tasks, web scraping), Game Development (Pygame), Cybersecurity (Penetration testing tools)\n",
        "\n",
        "  - Its simplicity and powerful capabilities make Python one of the most popular programming languages today and it got libeary which is easiy access and can be used easily.\n",
        "\n",
        "  2. What is an interpreter in Python?\n",
        "\n",
        "  - An interpreter in Python is a program that executes Python code line by line, rather than compiling the entire code at once like a compiler.\n",
        "\n",
        "When you run a Python script, the interpreter reads each line, translates it into machine code, and executes it immediately. This makes Python an interpreted language.\n",
        "\n",
        "3. What are pre-defined keywords in Python?\n",
        "\n",
        "- Pre-defined keywords in Python are reserved words that have special meanings and cannot be used as variable names, function names, or identifiers. These keywords are part of the Python syntax and serve specific purposes in programming and us alot of key worsds like false,true,as,else,elif,etc\n",
        "\n",
        "4. Can keywords be used as variable names?\n",
        "\n",
        "  - No, keywords cannot be used as variable names in Python. Python keywords are reserved words that have special meanings and are part of the language syntax. Using them as variable names will cause a SyntaxError.\n",
        "  Python keywords are reserved and cannot be used as variable names.\n",
        "Using them directly will cause a SyntaxError.\n",
        "Alternative: Modify the name slightly, such as adding an underscore (_).\n",
        "\n",
        "5. What is mutability in Python?\n",
        "  - In Python, mutability refers to whether an object’s state (values) can be changed after it is created.\n",
        "\n",
        "Mutable objects - Can be modified after creation.\n",
        "Immutable objects - Cannot be modified after creation.\n",
        "\n",
        "6. Why are lists mutable, but tuples are immutable?\n",
        "  - The difference in mutability between lists and tuples comes from how they are stored in memory and their intended use cases.\n",
        "\n",
        "List are mutable - Lists can be modified after creation (elements can be changed, added, or removed).\n",
        "\n",
        "-They store references to objects, allowing modifications.\n",
        "\n",
        "Tuples are Immutable (tuple)- Tuples cannot be modified after creation.\n",
        "\n",
        "-Python stores tuples in a more optimized way, making them faster and safer.\n",
        "\n",
        "-They are hashable, meaning they can be used as dictionary key\n",
        "\n",
        "7. What is the difference between “==” and “is” operators in Python?\n",
        "  - The difference betwen three are as follow -\n",
        "  \n",
        "  i. The == operator checks if two variables have the same value, regardless of whether they are stored at different memory locations.\n",
        "\n",
        "  ii. The is operator checks if two variables point to the same memory location\n",
        "  \n",
        "  iii. Python caches small immutable objects (like small integers and strings), so is may return True in some cases.\n",
        "\n",
        "8. What are logical operators in Python?\n",
        "\n",
        "  - Logical operators in Python are symbols or words that evaluate whether a condition is true or false. They are used to combine conditional statements.\n",
        "\n",
        "Common logical operators\n",
        "\n",
        "AND: Returns True if both statements are true\n",
        "\n",
        "OR: Returns True if one of the statements is true\n",
        "\n",
        "NOT: Reverses the result, returning False if the result is true\n",
        "\n",
        "9. What is type casting in Python?\n",
        "\n",
        "  - In Python, \"type casting\" refers to the process of manually converting a variable from one data type to another, allowing you to explicitly change the type of data stored in a variable, like transforming a string into an integer or a float into a string, using built-in functions like int(), float(), and str().\n",
        "\n",
        "10. What is the difference between implicit and explicit type casting?\n",
        "\n",
        "  - Implicit type casting is when a programming language automatically converts a value from one data type to another without any explicit instruction from the programmer, usually happening when converting to a larger data type and no data loss is expected, while explicit type casting requires the programmer to manually specify the conversion using a casting operator, often used when converting to a smaller data type where data loss might occur; essentially, implicit casting is done automatically by the compiler, while explicit casting is done intentionally by the programmer through code.\n",
        "\n",
        "11. What is the purpose of conditional statements in Python?\n",
        "\n",
        "  - Conditional statements control the flow of execution in a Python program based on conditions. They allow the program to make decisions and execute different blocks of code depending on whether a condition is True or Fals.\n",
        "\n",
        "12. How does the elif statement work?\n",
        "\n",
        "  - The elif (else if) statement in Python is used when you have multiple conditions to check. It allows the program to evaluate conditions one by one and execute the first block that is True.\n",
        "\n",
        "13. What is the difference between for and while loops?\n",
        "\n",
        "  - A \"for\" loop is used when you know exactly how many times you want to iterate through a block of code, while a \"while\" loop continues to execute as long as a specific condition remains true.\n",
        "\n",
        "14. Describe a scenario where a while loop is more suitable than a for loop?\n",
        "\n",
        "  - In contrast to a 'for' loop, which is generally used when the number of iterations is known beforehand, a 'while' loop is ideal for situations where the number of iterations is not predetermined and depends on some dynamic condition.\n",
        "\n",
        "\n",
        "\n",
        "\n"
      ],
      "metadata": {
        "id": "l72Mo9zpkdwB"
      }
    },
    {
      "cell_type": "code",
      "execution_count": null,
      "metadata": {
        "colab": {
          "base_uri": "https://localhost:8080/"
        },
        "id": "XtHU1DmHka4n",
        "outputId": "850e7542-f2aa-45d2-ae1a-88c6e799d00b"
      },
      "outputs": [
        {
          "output_type": "stream",
          "name": "stdout",
          "text": [
            "Hello World\n"
          ]
        }
      ],
      "source": [
        "#Practical Questions\n",
        "1.\n",
        "print(\"Hello World\")\n"
      ]
    },
    {
      "cell_type": "code",
      "source": [
        "2.\n",
        "name = input(\"Enter your name: \")\n",
        "age = input(\"Enter your age: \")\n",
        "\n",
        "print(\"My name is Abraham\", name)\n",
        "print(\"I am 21 year old\", age, \"years old\")"
      ],
      "metadata": {
        "colab": {
          "base_uri": "https://localhost:8080/"
        },
        "id": "uXIYYnhoQssD",
        "outputId": "e97303ac-ebfe-4a50-9ab2-f42a7cacc4c5"
      },
      "execution_count": null,
      "outputs": [
        {
          "output_type": "stream",
          "name": "stdout",
          "text": [
            "Enter your name: Abraham Dennis \n",
            "Enter your age: 21\n",
            "My name is Abraham Abraham Dennis \n",
            "I am 21 year old 21 years old\n"
          ]
        }
      ]
    },
    {
      "cell_type": "code",
      "source": [
        "3.\n",
        "import keyword\n",
        "print(keyword.kwlist)"
      ],
      "metadata": {
        "colab": {
          "base_uri": "https://localhost:8080/"
        },
        "id": "7_JAZTpHRGWa",
        "outputId": "d77ffa6d-a7c4-4921-f2d8-a8a28fcea90b"
      },
      "execution_count": null,
      "outputs": [
        {
          "output_type": "stream",
          "name": "stdout",
          "text": [
            "['False', 'None', 'True', 'and', 'as', 'assert', 'async', 'await', 'break', 'class', 'continue', 'def', 'del', 'elif', 'else', 'except', 'finally', 'for', 'from', 'global', 'if', 'import', 'in', 'is', 'lambda', 'nonlocal', 'not', 'or', 'pass', 'raise', 'return', 'try', 'while', 'with', 'yield']\n"
          ]
        }
      ]
    },
    {
      "cell_type": "code",
      "source": [
        "4.\n",
        "word = input(\"Enter a word: \")\n",
        "\n",
        "# Check if it's a Python keyword\n",
        "if keyword.iskeyword(word):\n",
        "    print(f\"'(word)' is a Python keyword.\")\n",
        "else:\n",
        "    print(f\"'(word)' is NOT a Python keyword.\")"
      ],
      "metadata": {
        "colab": {
          "base_uri": "https://localhost:8080/"
        },
        "id": "mtTiLn9YT5D4",
        "outputId": "a9dbfc74-734c-4e38-e794-928974fff7ae"
      },
      "execution_count": null,
      "outputs": [
        {
          "output_type": "stream",
          "name": "stdout",
          "text": [
            "Enter a word: ksk\n",
            "'(word)' is NOT a Python keyword.\n"
          ]
        }
      ]
    },
    {
      "cell_type": "code",
      "source": [
        "6.\n",
        "#Immutabe\n",
        "tuple1 = (0, 1, 2, 3)\n",
        "tuple1[0] = 4\n",
        "print(tuple1)\n",
        "#Mutable\n",
        "my_dict = {\"name\": \"Ram\", \"age\": 25}\n",
        "new_dict = my_dict\n",
        "new_dict[\"age\"] = 37\n",
        "\n",
        "print(my_dict)\n",
        "print(new_dict)"
      ],
      "metadata": {
        "colab": {
          "base_uri": "https://localhost:8080/",
          "height": 193
        },
        "id": "Hx2K8FUxUw2N",
        "outputId": "b1c9b6ca-5e36-49cf-de10-b9333c83a07d"
      },
      "execution_count": null,
      "outputs": [
        {
          "output_type": "error",
          "ename": "TypeError",
          "evalue": "'tuple' object does not support item assignment",
          "traceback": [
            "\u001b[0;31m---------------------------------------------------------------------------\u001b[0m",
            "\u001b[0;31mTypeError\u001b[0m                                 Traceback (most recent call last)",
            "\u001b[0;32m<ipython-input-20-365b6936a52d>\u001b[0m in \u001b[0;36m<cell line: 0>\u001b[0;34m()\u001b[0m\n\u001b[1;32m      2\u001b[0m \u001b[0;31m#Immutabe\u001b[0m\u001b[0;34m\u001b[0m\u001b[0;34m\u001b[0m\u001b[0m\n\u001b[1;32m      3\u001b[0m \u001b[0mtuple1\u001b[0m \u001b[0;34m=\u001b[0m \u001b[0;34m(\u001b[0m\u001b[0;36m0\u001b[0m\u001b[0;34m,\u001b[0m \u001b[0;36m1\u001b[0m\u001b[0;34m,\u001b[0m \u001b[0;36m2\u001b[0m\u001b[0;34m,\u001b[0m \u001b[0;36m3\u001b[0m\u001b[0;34m)\u001b[0m\u001b[0;34m\u001b[0m\u001b[0;34m\u001b[0m\u001b[0m\n\u001b[0;32m----> 4\u001b[0;31m \u001b[0mtuple1\u001b[0m\u001b[0;34m[\u001b[0m\u001b[0;36m0\u001b[0m\u001b[0;34m]\u001b[0m \u001b[0;34m=\u001b[0m \u001b[0;36m4\u001b[0m\u001b[0;34m\u001b[0m\u001b[0;34m\u001b[0m\u001b[0m\n\u001b[0m\u001b[1;32m      5\u001b[0m \u001b[0mprint\u001b[0m\u001b[0;34m(\u001b[0m\u001b[0mtuple1\u001b[0m\u001b[0;34m)\u001b[0m\u001b[0;34m\u001b[0m\u001b[0;34m\u001b[0m\u001b[0m\n",
            "\u001b[0;31mTypeError\u001b[0m: 'tuple' object does not support item assignment"
          ]
        }
      ]
    },
    {
      "cell_type": "code",
      "source": [
        "8.\n",
        "a=5\n",
        "b=8\n",
        "a is b\n",
        "a is not b\n",
        "b is not a"
      ],
      "metadata": {
        "colab": {
          "base_uri": "https://localhost:8080/"
        },
        "id": "SLT68R2uWww6",
        "outputId": "472ca716-7064-4752-fb61-2b8d42650c4b"
      },
      "execution_count": null,
      "outputs": [
        {
          "output_type": "execute_result",
          "data": {
            "text/plain": [
              "True"
            ]
          },
          "metadata": {},
          "execution_count": 22
        }
      ]
    },
    {
      "cell_type": "code",
      "source": [
        "9.\n",
        "s = \"42\"\n",
        "num = int(s)\n",
        "print(num)\n",
        "# Binary string\n",
        "s = \"1010\"\n",
        "num = int(s, 2)\n",
        "print(num)\n",
        "\n",
        "# Hexadecimal string\n",
        "s = \"A\"\n",
        "num = int(s, 16)\n",
        "print(num)\n",
        "\n",
        "s = \"12345\"\n",
        "if s.isdigit():\n",
        "    num = int(s)\n",
        "    print(num)\n",
        "else:\n",
        "    print(\"The string is not numeric.\")"
      ],
      "metadata": {
        "id": "yMkolIKSYest"
      },
      "execution_count": null,
      "outputs": []
    },
    {
      "cell_type": "code",
      "source": [
        "12.\n",
        "for num in range(1, 11):\n",
        "    print(num)"
      ],
      "metadata": {
        "colab": {
          "base_uri": "https://localhost:8080/"
        },
        "id": "hqN_5m10Y-GE",
        "outputId": "cb5bc99b-b7f2-46b1-bfc0-8f9adc57271a"
      },
      "execution_count": null,
      "outputs": [
        {
          "output_type": "stream",
          "name": "stdout",
          "text": [
            "1\n",
            "2\n",
            "3\n",
            "4\n",
            "5\n",
            "6\n",
            "7\n",
            "8\n",
            "9\n",
            "10\n"
          ]
        }
      ]
    }
  ]
}