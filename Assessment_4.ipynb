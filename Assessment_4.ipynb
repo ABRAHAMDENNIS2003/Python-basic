{
  "nbformat": 4,
  "nbformat_minor": 0,
  "metadata": {
    "colab": {
      "provenance": []
    },
    "kernelspec": {
      "name": "python3",
      "display_name": "Python 3"
    },
    "language_info": {
      "name": "python"
    }
  },
  "cells": [
    {
      "cell_type": "markdown",
      "source": [
        "**Python OOPs Questions**\n",
        "\n",
        "1.What is Object-Oriented Programming (OOP)?\n",
        "\n",
        "  - Object-oriented programming (OOP) is a computer programming style that organizes programs around objects instead of logic and functions. OOP is based on the idea that objects can contain data and perform actions.\n",
        "\n",
        "\n",
        "2.What is a class in OOP?\n",
        "\n",
        "  - In Object-Oriented Programming (OOP), a \"class\" is a blueprint or template that defines the structure and behavior of an object, essentially outlining the properties (variables) and actions (methods) that all objects of that type will share, allowing you to create multiple instances of the same kind of object with consistent characteristics; think of it like a recipe for creating objects with specific attributes and functionalities.\n",
        "\n",
        "3.What is an object in OOP?\n",
        "\n",
        "  - In object-oriented programming (OOP), an object is a unit of code that represents a real-world entity and performs actions. Objects are the basic building blocks of OOP programs.\n",
        "\n",
        "4.What is the difference between abstraction and encapsulation?\n",
        "\n",
        "  - Abstraction hides implementation details, while encapsulation controls access to data. Both are important concepts in object-oriented programming.\n",
        "\n",
        "  # Abstraction\n",
        "\n",
        "What should get done,\n",
        "Hides unnecessary information,Defines common interfaces and behaviors,Promotes code reusability and reduces duplication\n",
        "# Encapsulation\n",
        "\n",
        "How it should get done (focus),Controls access to data\n",
        ",Bundles data and methods into a class\n",
        ",Enhances code modularity\n",
        "\n",
        "5.What are dunder methods in Python?\n",
        "\n",
        "  - In Python, dunder methods, also known as magic methods, are methods with double underscores (__) before and after their names. They are used to add special functionality to classes and objects.\n",
        "\n",
        "6.Explain the concept of inheritance in OOP?\n",
        "\n",
        "  - In object-oriented programming (OOP), inheritance is the process of deriving new classes from existing ones. It's a fundamental concept that helps make code more efficient and modular.\n",
        "\n",
        "7.What is polymorphism in OOP?\n",
        "\n",
        "  - In Object-Oriented Programming (OOP), polymorphism refers to the ability of an object to take on multiple forms, meaning a single method name can be used to perform different operations depending on the type of object it is called on, allowing for code reusability and flexibility by treating different objects with the same interface in a consistent way; essentially, \"one name, many forms\" based on the context.\n",
        "\n",
        "8.How is encapsulation achieved in Python?\n",
        "\n",
        " - Encapsulation in Python is achieved by using access modifiers, conventions, and naming conventions.\n",
        "Access modifiers\n",
        "Private\n",
        "Use a double underscore prefix (__), making the attribute private and inaccessible from outside the class\n",
        "Protected\n",
        "Use a single underscore prefix (_), making the attribute intended for internal use only within the class and its subclass\n",
        "Conventions\n",
        "Python uses conventions and programming practices rather than enforced access modifiers\n",
        "Adhering to these conventions is crucial for maintaining clean and maintainable code\n",
        "Naming conventions\n",
        "Use naming conventions to distinguish between protected and private members\n",
        "Add a double underscore in front of the variable and any function name to hide them when accessing them from out of the class\n",
        "Purpose of encapsulation\n",
        "To protect an object's internal state and expose a controlled interface\n",
        "To keep the class clean and organized\n",
        "To clearly distinguish between what is meant for internal use and what is exposed to the outside world\n",
        "\n",
        "9.What is a constructor in Python?\n",
        "\n",
        "  - In Python, a constructor is a special method that initializes an object when it's created. It's a key concept in object-oriented programming.\n",
        "\n",
        "10.What are class and static methods in Python?\n",
        "\n",
        "  - A class method can access or modify the class state while a static method can't access or modify it. In general, static methods know nothing about the class state. They are utility-type methods that take some parameters and work upon those parameters. On the other hand class methods must have class as a parameter\n",
        "\n",
        "11.What is method overloading in Python?\n",
        "\n",
        "  - In Python, \"method overloading\" refers to the concept of creating multiple methods with the same name but different parameter lists, allowing a single method to handle various input types or argument combinations.\n",
        "\n",
        "12.What is method overriding in OOP?\n",
        "\n",
        "  - In object-oriented programming (OOP), method overriding is when a subclass redefines a method that's already defined in its superclass. This allows the subclass to customize the behavior of the method.\n",
        "\n",
        "13.What is a property decorator in Python?\n",
        "\n",
        "  - The decorator is a built-in Python decorator that allows you to turn class methods into properties in a way that's both elegant and user-friendly.\n",
        "\n",
        "14.Why is polymorphism important in OOP?\n",
        "\n",
        "  - Polymorphism is a core feature of object-oriented programming (OOP) that allows programmers to write more efficient, flexible, and maintainable code. It's also important because it allows programs to be extended and adapted to new requirements without having to rewrite large parts of the code.\n",
        "\n",
        "15.What is an abstract class in Python?\n",
        "\n",
        "  - Abstraction in Python - NomidlIn Python, an abstract class is a class that defines methods that subclasses must implement. It's like a template that provides a common interface for other classes.\n",
        "\n",
        "16.What are the advantages of OOP?\n",
        "\n",
        "  - What are the Advantages of Object-Oriented Programming?Object-Oriented Programming (OOP) in Python offers several benefits including: increased code reusability through inheritance, improved maintainability by encapsulating data within objects, modularity allowing for independent development of components, better problem-solving by breaking down complex systems into manageable units, flexibility through polymorphism, and scalability to adapt to changing requirements; all contributing to cleaner, more organized, and easier-to-manage code.\n",
        "\n",
        "17.What is the difference between a class variable and an instance variable?\n",
        "\n",
        "  - In object-oriented programming, class variables are shared across all instances of a class, while instance variables are unique to each instance\n",
        "\n",
        "# Class variable\n",
        "\n",
        " Shared across all instances of a class,Defined within a class,Initialize objects with a specific value.\n",
        "\n",
        "# Instance variable\n",
        "\n",
        "Unique to each instance of a class,Defined within a class but outside of methods,Store unique data for each instance.\n",
        "\n",
        "18.Store unique data for each instance?\n",
        "\n",
        "  - How to Use a set in Python. You can create a set in Python using curly braces {} or the built-in set() function. Here I have created a set in the my_set variable, and I have 2 duplicate items there. As you can see in the output, the duplicates have been removed.\n",
        "\n",
        "19.Explain the purpose of ‘’__str__’ and ‘__repr__’ ‘ methods in Python.\n",
        "\n",
        " - In Python, the __str__ method provides a human-readable string representation of an object, primarily intended for users when printed, while __repr__ returns a more detailed, unambiguous representation, primarily used for debugging and development purposes, allowing you to potentially recreate the object from the string output; essentially, __str__ is for user-friendly display, and __repr__ is for developer insight.\n",
        "\n",
        "20.What is the significance of the ‘super()’ function in Python?\n",
        "\n",
        "  - In Python, the \"super()\" function is used to access methods and attributes from a parent class (also called a superclass) within a child class, allowing you to call the parent class's functionality directly from within the child class, especially when you need to override or extend existing methods while still utilizing the parent class's behavior; it's a key component of inheritance in object-oriented programming.\n",
        "\n",
        "21.What is the significance of the __del__ method in Python?\n",
        "\n",
        "  - In Python, the __del__ method, also known as the destructor method, releases resources when an object is deleted.\n",
        "\n",
        "23.How does polymorphism work in Python with inheritance?\n",
        "\n",
        "  - In Python, polymorphism, when used with inheritance, allows objects from different classes (usually child classes inheriting from a common parent class) to be treated as the same type, enabling the same method to behave differently depending on the specific object being used, achieved through a process called \"method overriding\" where child classes redefine methods inherited from the parent class to suit their unique needs; essentially, the same method name can perform different actions depending on the object's actual type.\n",
        "\n",
        "24.What is method chaining in Python OOP?\n",
        "\n",
        "  - In Python Object-Oriented Programming (OOP), \"method chaining\" is a technique where you call multiple methods on the same object consecutively in a single line of code, with each method returning the object itself, allowing you to chain operations together without needing to store intermediate results in separate variables, resulting in more concise and readable code.\n",
        "\n",
        "25.What is the purpose of the __call__ method in Python?\n",
        "\n",
        "  - In Python, the __call__ method allows you to create class instances that can be called like functions, essentially turning an object into a callable entity where you can directly use parentheses to execute its functionality, similar to how you would call a regular function; this is useful when you want an object to behave like a function with custom logic within the class."
      ],
      "metadata": {
        "id": "E39N09qtyg2y"
      }
    },
    {
      "cell_type": "code",
      "source": [
        "# Practical Questions\n",
        "\n",
        "1.\n",
        "\n",
        "class Animal:\n",
        "    def speak(self):\n",
        "        print(\"This animal makes a sound.\")\n",
        "\n",
        "class Dog(Animal):\n",
        "    def speak(self):\n",
        "        print(\"Bark!\")\n",
        "\n",
        "generic_animal = Animal()\n",
        "generic_animal.speak()\n",
        "dog = Dog()"
      ],
      "metadata": {
        "colab": {
          "base_uri": "https://localhost:8080/"
        },
        "id": "n7f1OEFa4WUu",
        "outputId": "3715efb8-336f-4d39-97a7-1761a32634f6"
      },
      "execution_count": 1,
      "outputs": [
        {
          "output_type": "stream",
          "name": "stdout",
          "text": [
            "This animal makes a sound.\n"
          ]
        }
      ]
    },
    {
      "cell_type": "code",
      "source": [
        "2.\n",
        "\n",
        "\n",
        "from abc import ABC, abstractmethod\n",
        "import math\n",
        "\n",
        "# Abstract class\n",
        "class Shape(ABC):\n",
        "    @abstractmethod\n",
        "    def area(self):\n",
        "        pass\n",
        "class Circle(Shape):\n",
        "    def __init__(self, radius):\n",
        "        self.radius = radius\n",
        "\n",
        "    def area(self):\n",
        "        return math.pi * self.radius ** 2\n",
        "\n",
        "class Rectangle(Shape):\n",
        "    def __init__(self, width, height):\n",
        "        self.width = width\n",
        "        self.height = height\n",
        "\n",
        "    def area(self):\n",
        "        return self.width * self.height\n",
        "circle = Circle(5)\n",
        "rectangle = Rectangle(4, 6)\n",
        "\n",
        "print(\"Circle Area:\", circle.area())\n",
        "print(\"Rectangle Area:\", rectangle.area())"
      ],
      "metadata": {
        "colab": {
          "base_uri": "https://localhost:8080/"
        },
        "id": "Jz6hk_oDLhYG",
        "outputId": "dcf403f9-1660-44c8-ed27-2f47a08c2f86"
      },
      "execution_count": 2,
      "outputs": [
        {
          "output_type": "stream",
          "name": "stdout",
          "text": [
            "Circle Area: 78.53981633974483\n",
            "Rectangle Area: 24\n"
          ]
        }
      ]
    },
    {
      "cell_type": "code",
      "source": [
        "3.\n",
        "\n",
        "class Vehicle:\n",
        "    def __init__(self, vehicle_type):\n",
        "        self.vehicle_type = vehicle_type\n",
        "\n",
        "    def display_type(self):\n",
        "        print(f\"Vehicle Type: {self.vehicle_type}\")\n",
        "\n",
        "class Car(Vehicle):\n",
        "    def __init__(self, brand, model, vehicle_type=\"Car\"):\n",
        "        super().__init__(vehicle_type)\n",
        "        self.brand = brand\n",
        "        self.model = model\n",
        "\n",
        "    def display_info(self):\n",
        "        print(f\"Car: {self.brand} {self.model}\")\n",
        "\n",
        "class ElectricCar(Car):\n",
        "    def __init__(self, brand, model, battery_capacity):\n",
        "        super().__init__(brand, model)\n",
        "        self.battery_capacity = battery_capacity\n",
        "\n",
        "    def display_battery(self):\n",
        "        print(f\"Battery Capacity: {self.battery_capacity} kWh\")\n",
        "\n",
        "\n",
        "tesla = ElectricCar(\"Tesla\", \"Model S\", 100)\n",
        "\n",
        "tesla.display_type()\n",
        "tesla.display_info()\n",
        "tesla.display_battery()"
      ],
      "metadata": {
        "colab": {
          "base_uri": "https://localhost:8080/"
        },
        "id": "xNGFPs8_MBiO",
        "outputId": "81ceb5d2-ca9e-4cda-ff1c-3c254fdcacd5"
      },
      "execution_count": 3,
      "outputs": [
        {
          "output_type": "stream",
          "name": "stdout",
          "text": [
            "Vehicle Type: Car\n",
            "Car: Tesla Model S\n",
            "Battery Capacity: 100 kWh\n"
          ]
        }
      ]
    },
    {
      "cell_type": "code",
      "source": [
        "4.\n",
        "\n",
        "class Bird:\n",
        "    def fly(self):\n",
        "        print(\"Some birds can fly.\")\n",
        "\n",
        "class Sparrow(Bird):\n",
        "    def fly(self):\n",
        "        print(\"Sparrow flies high in the sky!\")\n",
        "\n",
        "class Penguin(Bird):\n",
        "    def fly(self):\n",
        "        print(\"Penguins cannot fly, but they swim!\")\n",
        "\n",
        "def bird_flight(bird):\n",
        "    bird.fly()\n",
        "\n",
        "sparrow = Sparrow()\n",
        "penguin = Penguin()\n",
        "\n",
        "bird_flight(sparrow)\n",
        "bird_flight(penguin)"
      ],
      "metadata": {
        "colab": {
          "base_uri": "https://localhost:8080/"
        },
        "id": "tESawaTeMwDn",
        "outputId": "f220e484-936a-4720-bd1d-5e79371ccc58"
      },
      "execution_count": 4,
      "outputs": [
        {
          "output_type": "stream",
          "name": "stdout",
          "text": [
            "Sparrow flies high in the sky!\n",
            "Penguins cannot fly, but they swim!\n"
          ]
        }
      ]
    },
    {
      "cell_type": "code",
      "source": [
        "5.\n",
        "\n",
        "class BankAccount:\n",
        "    def __init__(self, initial_balance=0):\n",
        "        self.__balance = initial_balance\n",
        "\n",
        "    def deposit(self, amount):\n",
        "        if amount > 0:\n",
        "            self.__balance += amount\n",
        "            print(f\"Deposited: ${amount}\")\n",
        "        else:\n",
        "            print(\"Deposit amount must be positive.\")\n",
        "\n",
        "    def withdraw(self, amount):\n",
        "        if 0 < amount <= self.__balance:\n",
        "            self.__balance -= amount\n",
        "            print(f\"Withdrew: ${amount}\")\n",
        "        else:\n",
        "            print(\"Insufficient balance or invalid amount.\")\n",
        "\n",
        "    def get_balance(self):\n",
        "        return self.__balance\n",
        "\n",
        "\n",
        "account = BankAccount(100)\n",
        "account.deposit(50)\n",
        "account.withdraw(30)\n",
        "print(\"Current Balance:\", account.get_balance())"
      ],
      "metadata": {
        "colab": {
          "base_uri": "https://localhost:8080/"
        },
        "id": "8Za2SHw-NLiE",
        "outputId": "8da2575d-c79a-4cdc-dd2f-d1f4793b84de"
      },
      "execution_count": 6,
      "outputs": [
        {
          "output_type": "stream",
          "name": "stdout",
          "text": [
            "Deposited: $50\n",
            "Withdrew: $30\n",
            "Current Balance: 120\n"
          ]
        }
      ]
    },
    {
      "cell_type": "code",
      "source": [
        "6.\n",
        "\n",
        "\n",
        "class Instrument:\n",
        "    def play(self):\n",
        "        print(\"Playing an instrument...\")\n",
        "\n",
        "\n",
        "class Guitar(Instrument):\n",
        "    def play(self):\n",
        "        print(\"Strumming the guitar!\")\n",
        "\n",
        "\n",
        "class Piano(Instrument):\n",
        "    def play(self):\n",
        "        print(\"Playing the piano keys!\")\n",
        "\n",
        "\n",
        "def perform(instrument):\n",
        "    instrument.play()\n",
        "\n",
        "\n",
        "guitar = Guitar()\n",
        "piano = Piano()\n",
        "\n",
        "perform(guitar)\n",
        "perform(piano)"
      ],
      "metadata": {
        "colab": {
          "base_uri": "https://localhost:8080/"
        },
        "id": "8GeBBfTaOJNW",
        "outputId": "bd728576-ea62-49af-8f06-15821ce68c89"
      },
      "execution_count": 7,
      "outputs": [
        {
          "output_type": "stream",
          "name": "stdout",
          "text": [
            "Strumming the guitar!\n",
            "Playing the piano keys!\n"
          ]
        }
      ]
    },
    {
      "cell_type": "code",
      "source": [
        "7.\n",
        "\n",
        "class Person:\n",
        "    count = 0  #\n",
        "    def __init__(self, name):\n",
        "        self.name = name\n",
        "        Person.count += 1\n",
        "\n",
        "    @classmethod\n",
        "    def total_persons(cls):\n",
        "        return cls.count\n",
        "\n",
        "\n",
        "p1 = Person(\"Alice\")\n",
        "p2 = Person(\"Bob\")\n",
        "p3 = Person(\"Charlie\")\n",
        "\n",
        "print(\"Total Persons Created:\", Person.total_persons())\n"
      ],
      "metadata": {
        "colab": {
          "base_uri": "https://localhost:8080/"
        },
        "id": "CXii0b6FOu7B",
        "outputId": "af9a7157-bf68-4ac1-c4e7-2808d936b125"
      },
      "execution_count": 15,
      "outputs": [
        {
          "output_type": "stream",
          "name": "stdout",
          "text": [
            "Total Persons Created: 3\n"
          ]
        }
      ]
    },
    {
      "cell_type": "code",
      "source": [
        "8.\n",
        "\n",
        "class Fraction:\n",
        "    def __init__(self, numerator, denominator):\n",
        "        if denominator == 0:\n",
        "            raise ValueError(\"Denominator cannot be zero.\")\n",
        "        self.numerator = numerator\n",
        "        self.denominator = denominator\n",
        "\n",
        "    def __str__(self):\n",
        "        return f\"{self.numerator}/{self.denominator}\"\n",
        "\n",
        "frac1 = Fraction(3, 4)\n",
        "frac2 = Fraction(5, 8)\n",
        "\n",
        "print(frac1)\n",
        "print(frac2)\n"
      ],
      "metadata": {
        "colab": {
          "base_uri": "https://localhost:8080/"
        },
        "id": "WrfrL87MPBL9",
        "outputId": "aaf4fcee-6aa1-4ce7-c5f0-0d0bae090f95"
      },
      "execution_count": 16,
      "outputs": [
        {
          "output_type": "stream",
          "name": "stdout",
          "text": [
            "3/4\n",
            "5/8\n"
          ]
        }
      ]
    },
    {
      "cell_type": "code",
      "source": [
        "9.\n",
        "\n",
        "class Fraction:\n",
        "    def __init__(self, numerator, denominator):\n",
        "        if denominator == 0:\n",
        "            raise ValueError(\"Denominator cannot be zero.\")\n",
        "        self.numerator = numerator\n",
        "        self.denominator = denominator\n",
        "\n",
        "    def __str__(self):\n",
        "        return f\"{self.numerator}/{self.denominator}\"\n",
        "\n",
        "\n",
        "frac1 = Fraction(3, 4)\n",
        "frac2 = Fraction(5, 8)\n",
        "\n",
        "print(frac1)\n",
        "print(frac2)\n"
      ],
      "metadata": {
        "colab": {
          "base_uri": "https://localhost:8080/"
        },
        "id": "KGUhQ4ZLQTvp",
        "outputId": "3a23b017-7f90-4852-d887-cf62e3436b7b"
      },
      "execution_count": 17,
      "outputs": [
        {
          "output_type": "stream",
          "name": "stdout",
          "text": [
            "3/4\n",
            "5/8\n"
          ]
        }
      ]
    },
    {
      "cell_type": "code",
      "source": [
        "10.\n",
        "\n",
        "class Vector:\n",
        "    def __init__(self, x, y):\n",
        "        self.x = x\n",
        "        self.y = y\n",
        "\n",
        "    def __add__(self, other):\n",
        "        if not isinstance(other, Vector):\n",
        "            return NotImplemented\n",
        "        return Vector(self.x + other.x, self.y + other.y)\n",
        "\n",
        "    def __str__(self):\n",
        "        return f\"({self.x}, {self.y})\"\n",
        "\n",
        "\n",
        "v1 = Vector(2, 3)\n",
        "v2 = Vector(4, 5)\n",
        "\n",
        "v3 = v1 + v2\n",
        "\n",
        "print(\"Vector 1:\", v1)"
      ],
      "metadata": {
        "colab": {
          "base_uri": "https://localhost:8080/"
        },
        "id": "T0lf3EO6Q40-",
        "outputId": "255998cf-d6d9-403f-c511-0404784d1640"
      },
      "execution_count": 18,
      "outputs": [
        {
          "output_type": "stream",
          "name": "stdout",
          "text": [
            "Vector 1: (2, 3)\n"
          ]
        }
      ]
    },
    {
      "cell_type": "code",
      "source": [
        "11.\n",
        "\n",
        "class Person:\n",
        "    def __init__(self, name, age):\n",
        "        self.name = name\n",
        "        self.age = age\n",
        "\n",
        "    def greet(self):\n",
        "        print(f\"Hello, my name is {self.name} and I am {self.age} years old.\")\n",
        "\n",
        "\n",
        "person1 = Person(\"Alice\", 25)\n",
        "person2 = Person(\"Bob\", 30)\n",
        "\n",
        "person1.greet()\n",
        "person2.greet()"
      ],
      "metadata": {
        "colab": {
          "base_uri": "https://localhost:8080/"
        },
        "id": "Srm8CbbfRIu6",
        "outputId": "f818a8c8-92e4-41c5-a1dd-aa111f6f46b4"
      },
      "execution_count": 20,
      "outputs": [
        {
          "output_type": "stream",
          "name": "stdout",
          "text": [
            "Hello, my name is Alice and I am 25 years old.\n",
            "Hello, my name is Bob and I am 30 years old.\n"
          ]
        }
      ]
    },
    {
      "cell_type": "code",
      "source": [
        "12.\n",
        "\n",
        "class Student:\n",
        "    def __init__(self, name, grades):\n",
        "        self.name = name\n",
        "        self.grades = grades\n",
        "\n",
        "    def average_grade(self):\n",
        "        if not self.grades:\n",
        "            return 0\n",
        "        return sum(self.grades) / len(self.grades)\n",
        "\n",
        "    def display_info(self):\n",
        "        print(f\"Student: {self.name}, Average Grade: {self.average_grade():.2f}\")\n",
        "\n",
        "\n",
        "student1 = Student(\"Alice\", [85, 90, 78, 92])\n",
        "student2 = Student(\"Bob\", [88, 76, 95])\n",
        "\n",
        "student1.display_info()\n",
        "student2.display_info()"
      ],
      "metadata": {
        "colab": {
          "base_uri": "https://localhost:8080/"
        },
        "id": "9xtRGjoFRV_N",
        "outputId": "5b1ddc1c-1722-4292-a4de-445e2456ccfa"
      },
      "execution_count": 21,
      "outputs": [
        {
          "output_type": "stream",
          "name": "stdout",
          "text": [
            "Student: Alice, Average Grade: 86.25\n",
            "Student: Bob, Average Grade: 86.33\n"
          ]
        }
      ]
    },
    {
      "cell_type": "code",
      "source": [
        "13.\n",
        "\n",
        "class Rectangle:\n",
        "    def __init__(self, length=0, width=0):\n",
        "        self.length = length\n",
        "        self.width = width\n",
        "\n",
        "    def set_dimensions(self, length, width):\n",
        "        self.length = length\n",
        "        self.width = width\n",
        "\n",
        "    def area(self):\n",
        "        return self.length * self.width\n",
        "\n",
        "    def display_info(self):\n",
        "        print(f\"Rectangle: Length = {self.length}, Width = {self.width}, Area = {self.area()}\")\n",
        "\n",
        "rect1 = Rectangle()\n",
        "rect1.set_dimensions(5, 10)\n",
        "\n",
        "rect2 = Rectangle(3, 7)\n",
        "\n",
        "rect1.display_info()\n",
        "rect2.display_info()"
      ],
      "metadata": {
        "colab": {
          "base_uri": "https://localhost:8080/"
        },
        "id": "-xTTXIATRro2",
        "outputId": "152b995c-e773-44d6-d6b2-25126bf87a44"
      },
      "execution_count": 22,
      "outputs": [
        {
          "output_type": "stream",
          "name": "stdout",
          "text": [
            "Rectangle: Length = 5, Width = 10, Area = 50\n",
            "Rectangle: Length = 3, Width = 7, Area = 21\n"
          ]
        }
      ]
    },
    {
      "cell_type": "code",
      "source": [
        "14.\n",
        "\n",
        "class Employee:\n",
        "    def __init__(self, name, hours_worked, hourly_rate):\n",
        "        self.name = name\n",
        "        self.hours_worked = hours_worked\n",
        "        self.hourly_rate = hourly_rate\n",
        "\n",
        "    def calculate_salary(self):\n",
        "        return self.hours_worked * self.hourly_rate\n",
        "\n",
        "    def display_salary(self):\n",
        "        print(f\"{self.name}'s Salary: ${self.calculate_salary():.2f}\")\n",
        "\n",
        "\n",
        "class Manager(Employee):\n",
        "    def __init__(self, name, hours_worked, hourly_rate, bonus):\n",
        "        super().__init__(name, hours_worked, hourly_rate)\n",
        "        self.bonus = bonus\n",
        "\n",
        "    def calculate_salary(self):\n",
        "        return super().calculate_salary() + self.bonus\n",
        "\n",
        "\n",
        "employee1 = Employee(\"Alice\", 40, 20)\n",
        "manager1 = Manager(\"Bob\", 40, 30, 500)\n",
        "\n",
        "employee1.display_salary()\n",
        "manager1.display_salary()"
      ],
      "metadata": {
        "colab": {
          "base_uri": "https://localhost:8080/"
        },
        "id": "m_ZPhaipR5EN",
        "outputId": "173a85c2-ba30-4c34-b6a2-f5ec0a36ac41"
      },
      "execution_count": 24,
      "outputs": [
        {
          "output_type": "stream",
          "name": "stdout",
          "text": [
            "Alice's Salary: $800.00\n",
            "Bob's Salary: $1700.00\n"
          ]
        }
      ]
    },
    {
      "cell_type": "code",
      "source": [],
      "metadata": {
        "id": "fLARDFaxSOPr"
      },
      "execution_count": null,
      "outputs": []
    }
  ]
}