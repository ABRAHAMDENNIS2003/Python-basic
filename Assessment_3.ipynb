{
  "nbformat": 4,
  "nbformat_minor": 0,
  "metadata": {
    "colab": {
      "provenance": []
    },
    "kernelspec": {
      "name": "python3",
      "display_name": "Python 3"
    },
    "language_info": {
      "name": "python"
    }
  },
  "cells": [
    {
      "cell_type": "markdown",
      "source": [
        "# Therory question and answer\n",
        "\n",
        "1.What is the difference between a function and a method in Python?\n",
        "\n",
        "  - In Python, a function is a block of code that performs a task, while a method is a function that operates on an object or class.\n",
        "\n",
        "  Function -\n",
        "  A set of instructions that can be called from anywhere,Can be used for object-oriented and non-object-oriented programming,Can be called from anywhere.\n",
        "\n",
        "  Method -\n",
        "  A set of instructions associated with an object,Used to define the behavior of objects,Called using dot notation, with the object name followed by a period and the method name,\n",
        "\n",
        "  Function -\n",
        "   def calculate_area(length, width):\n",
        "\n",
        "    return length * width\n",
        "\n",
        "result = calculate_area(5, 3)\n",
        "\n",
        "print(result)  # Output: 15\n",
        "\n",
        "   Method   -\n",
        "   \n",
        "    def __init__(self, length, width):\n",
        "\n",
        "        self.length = length\n",
        "\n",
        "        self.width = width\n",
        "\n",
        "\n",
        "\n",
        "    def get_area(self):\n",
        "\n",
        "        return self.length * self.width\n",
        "area = rect.get_area()\n",
        "\n",
        "print(area)  # Output: 10\n",
        "\n",
        "2.Explain the concept of function arguments and parameters in Python.\n",
        "\n",
        "    - In Python, \"function arguments\" are the actual values you pass to a function when you call it, while \"parameters\" are the placeholder variables listed within the function definition that receive those values; essentially, arguments are the \"input\" values used to replace the parameters when the function is executed.\n",
        "    \n",
        "  def greet(name):  \n",
        "\n",
        "    print(f\"Hello, {name}!\")\n",
        "\n",
        "greet(\"Alice\")\n",
        "\n",
        "3. What are the different ways to define and call a function in Python?\n",
        "\n",
        "  - In Python, you define a function using the def keyword followed by the function name, parentheses for arguments, a colon, and then the indented function body; to call a function, simply write the function name with parentheses, including any necessary arguments inside them.\n",
        "\n",
        "  def greet(name):\n",
        "    print(\"Hello, \" + name + \"!\")  \n",
        "greet(\"Alice\")\n",
        "\n",
        "4. What is the purpose of the `return` statement in a Python function?\n",
        "\n",
        "  - In Python, a \"return\" statement is used within a function to send a calculated value back to the part of the code that called the function, essentially allowing you to utilize the result of the function's operations in your program; once a \"return\" statement is executed, the function terminates and the specified value is returned to the caller.\n",
        "\n",
        "\n",
        "  def calculate_area(length, width):\n",
        "\n",
        "    area = length * width\n",
        "    return area  \n",
        "rectangle_area = calculate_area(5, 3)\n",
        "print(\"The area of the rectangle is:\", rectangle_area)\n",
        "\n",
        "5. What are iterators in Python and how do they differ from iterables?\n",
        "\n",
        "  - Iterable is an object, that one can iterate over. It generates an Iterator when passed to iter() method. An iterator is an object, which is used to iterate over an iterable object using the __next__() method. Iterators have the __next__() method, which returns the next item of the object.\n",
        "\n",
        "6. Explain the concept of generators in Python and how they are defined.\n",
        "\n",
        "  - A generator in Python is a special type of function that generates a sequence of values on demand, one at a time, instead of creating the entire sequence in memory all at once; it essentially acts like an iterator, allowing you to loop through values as needed, making it particularly useful for handling large datasets efficiently.\n",
        "\n",
        "  def fibonacci(n):\n",
        "    a, b = 0, 1\n",
        "    for _ in range(n):\n",
        "        yield a\n",
        "        a, b = b, a + b\n",
        "for num in fibonacci(10):\n",
        "    print(num)\n",
        "\n",
        "7. What are the advantages of using generators over regular functions?\n",
        "\n",
        "  - The primary advantage of using generators over regular functions is their ability to generate values \"on-demand\" through the yield keyword, leading to significant memory efficiency, especially when dealing with large datasets, as they only calculate values when needed (lazy evaluation) instead of storing the entire sequence in memory at once; this makes them ideal for generating infinite sequences or processing large amounts of data without memory constraints.\n",
        "\n",
        "\n",
        "def squares_list(n):\n",
        "    squares = []\n",
        "    for i in range(n):\n",
        "        squares.append(i**2)\n",
        "    return squares\n",
        "\n",
        "8. What is a lambda function in Python and when is it typically used?\n",
        "\n",
        "  -A lambda function in Python is a small, anonymous function defined using the \"lambda\" keyword, typically used for short, simple operations where a full function definition is unnecessary, like passing a function as an argument to another function (like map or filter) to perform a specific operation on each element of an iterable; it's essentially a single-line function that takes arguments and returns a value based on a single expression\n",
        "\n",
        "  quare_lambda = lambda x: x * x\n",
        "numbers = [1, 2, 3, 4]\n",
        "\n",
        "9. Explain the purpose and usage of the `map()` function in Python.\n",
        "\n",
        "  - The map() function in Python allows you to apply a specific function to each element of an iterable (like a list or tuple) and returns an iterator containing the results, essentially \"mapping\" the function across all items in the iterable; it's a concise way to perform operations on every element of a collection without writing explicit loops.\n",
        "\n",
        "  def square(x):\n",
        "    return x * x  \n",
        "numbers = [1, 2, 3, 4]\n",
        "squared_numbers = map(square, numbers)  \n",
        "print(list(squared_numbers))\n",
        "\n",
        "10. What is the difference between `map()`, `reduce()`, and `filter()` functions in Python?\n",
        "\n",
        "  - In this article, we will study Map, Reduce, and Filter Operations in Python. These three operations are paradigms of functional programming. They allow one to write simpler, shorter code without needing to bother about intricacies like loops and branching. In this article, we will see Map Reduce and Filter Operations in Python.\n",
        "\n",
        "Map Reduce and Filter Operations in Python\n",
        "Below, are examples of Map Reduce and Filter Operations in Python:\n",
        "\n",
        "map() Function\n",
        "Reduce() Function\n",
        "Filter() Function\n",
        "\n",
        "11. Using pen & Paper write the internal mechanism for sum operation using  reduce function on this given\n",
        "list:[47,11,42,13];\n",
        "\n",
        "  - The reduce(fun,seq) function is used to apply a particular function passed in its argument to all of the list elements mentioned in the sequence passed along. This function is defined in “functools” module.\n"
      ],
      "metadata": {
        "id": "n--wR5K6p6G2"
      }
    },
    {
      "cell_type": "code",
      "source": [
        "# Practical Questions\n",
        "1.\n",
        "\n",
        "def sum_of_evens(numbers):\n",
        "    return sum(num for num in numbers if num % 2 == 0)\n",
        "\n",
        "numbers = [1, 2, 3, 4, 5, 6]\n",
        "print(sum_of_evens(numbers))\n"
      ],
      "metadata": {
        "colab": {
          "base_uri": "https://localhost:8080/"
        },
        "id": "OAIo1t-uvG61",
        "outputId": "738f97a1-8383-4fcd-bcbf-87132bbe9e55"
      },
      "execution_count": 2,
      "outputs": [
        {
          "output_type": "stream",
          "name": "stdout",
          "text": [
            "12\n"
          ]
        }
      ]
    },
    {
      "cell_type": "code",
      "source": [
        "2.\n",
        "def reverse_string(s):\n",
        "    return s[::-1]\n",
        "text = \"hello\"\n",
        "print(reverse_string(text))  # Output: \"olleh\""
      ],
      "metadata": {
        "colab": {
          "base_uri": "https://localhost:8080/"
        },
        "id": "W78qivUtvT18",
        "outputId": "ae19a741-8af1-411c-9dc5-862f48ac9105"
      },
      "execution_count": 3,
      "outputs": [
        {
          "output_type": "stream",
          "name": "stdout",
          "text": [
            "olleh\n"
          ]
        }
      ]
    },
    {
      "cell_type": "code",
      "source": [
        "3.\n",
        "def square_numbers(numbers):\n",
        "    return [num ** 2 for num in numbers]\n",
        "nums = [1, 2, 3, 4, 5]\n",
        "print(square_numbers(nums))"
      ],
      "metadata": {
        "colab": {
          "base_uri": "https://localhost:8080/"
        },
        "id": "1XkhMn3WwSbi",
        "outputId": "2a074770-460c-4a97-d687-6b3338f816c8"
      },
      "execution_count": 4,
      "outputs": [
        {
          "output_type": "stream",
          "name": "stdout",
          "text": [
            "[1, 4, 9, 16, 25]\n"
          ]
        }
      ]
    },
    {
      "cell_type": "code",
      "source": [
        "4.\n",
        "def is_prime(n):\n",
        "    if n < 2:\n",
        "        return False\n",
        "    for i in range(2, int(n ** 0.5) + 1):\n",
        "        if n % i == 0:\n",
        "            return False\n",
        "    return True\n",
        "for num in range(1, 21):\n",
        "    if is_prime(num):\n",
        "        print(num, end=\" \")"
      ],
      "metadata": {
        "colab": {
          "base_uri": "https://localhost:8080/"
        },
        "id": "feVsBaAGwi-J",
        "outputId": "0972d253-6ba4-418e-b9a6-3eb3f040f789"
      },
      "execution_count": 7,
      "outputs": [
        {
          "output_type": "stream",
          "name": "stdout",
          "text": [
            "2 3 5 7 11 13 17 19 "
          ]
        }
      ]
    },
    {
      "cell_type": "code",
      "source": [
        "5.\n",
        "class FibonacciIterator:\n",
        "    def __init__(self, n_terms):\n",
        "        self.n_terms = n_terms\n",
        "        self.a, self.b = 0, 1\n",
        "        self.count = 0\n",
        "\n",
        "    def __iter__(self):\n",
        "        return self\n",
        "\n",
        "    def __next__(self):\n",
        "        if self.count >= self.n_terms:\n",
        "            raise StopIteration\n",
        "        fib_num = self.a\n",
        "        self.a, self.b = self.b, self.a + self.b\n",
        "        self.count += 1\n",
        "        return fib_num\n",
        "fib_iter = FibonacciIterator(10)\n",
        "print(list(fib_iter))"
      ],
      "metadata": {
        "colab": {
          "base_uri": "https://localhost:8080/"
        },
        "id": "7d_GZUb1wzto",
        "outputId": "7c262020-024d-4a25-dafc-d210ab70a5bc"
      },
      "execution_count": 9,
      "outputs": [
        {
          "output_type": "stream",
          "name": "stdout",
          "text": [
            "[0, 1, 1, 2, 3, 5, 8, 13, 21, 34]\n"
          ]
        }
      ]
    },
    {
      "cell_type": "code",
      "source": [
        "6.\n",
        "def powers_of_two(max_exponent):\n",
        "    for exponent in range(max_exponent + 1):\n",
        "        yield 2 ** exponent\n",
        "for power in powers_of_two(5):\n",
        "    print(power)"
      ],
      "metadata": {
        "colab": {
          "base_uri": "https://localhost:8080/"
        },
        "id": "ORAmENZzxVS9",
        "outputId": "ecedc8c5-a524-48ab-b597-101ecb3c081c"
      },
      "execution_count": 12,
      "outputs": [
        {
          "output_type": "stream",
          "name": "stdout",
          "text": [
            "1\n",
            "2\n",
            "4\n",
            "8\n",
            "16\n",
            "32\n"
          ]
        }
      ]
    },
    {
      "cell_type": "code",
      "source": [
        "7.\n",
        "def read_file_line_by_line(file_path):\n",
        "    with open(file_path, 'r', encoding='utf-8') as file:\n",
        "        for line in file:\n",
        "            yield line.strip()"
      ],
      "metadata": {
        "id": "DyBfIC3VxwLg"
      },
      "execution_count": 14,
      "outputs": []
    },
    {
      "cell_type": "code",
      "source": [
        "8.\n",
        "tuples_list = [(1, 3), (4, 1), (2, 2), (5, 0)]\n",
        "sorted_list = sorted(tuples_list, key=lambda x: x[1])\n",
        "print(sorted_list)"
      ],
      "metadata": {
        "colab": {
          "base_uri": "https://localhost:8080/"
        },
        "id": "7rLLDv3Ex9w_",
        "outputId": "9620b02e-4500-409e-fe8c-4cba9574eb14"
      },
      "execution_count": 16,
      "outputs": [
        {
          "output_type": "stream",
          "name": "stdout",
          "text": [
            "[(5, 0), (4, 1), (2, 2), (1, 3)]\n"
          ]
        }
      ]
    },
    {
      "cell_type": "code",
      "source": [
        "9.\n",
        "celsius_temps = [0, 10, 20, 30, 40, 100]\n",
        "fahrenheit_temps = list(map(celsius_to_fahrenheit, celsius_temps))\n",
        "print(fahrenheit_temps)"
      ],
      "metadata": {
        "colab": {
          "base_uri": "https://localhost:8080/"
        },
        "id": "lnyVHDwxyQRD",
        "outputId": "0736d65c-1f92-4416-a9d3-cccdeedfbbd8"
      },
      "execution_count": 19,
      "outputs": [
        {
          "output_type": "stream",
          "name": "stdout",
          "text": [
            "[32.0, 50.0, 68.0, 86.0, 104.0, 212.0]\n"
          ]
        }
      ]
    },
    {
      "cell_type": "code",
      "source": [
        "10.\n",
        "def remove_vowels(s):\n",
        "    vowels = \"aeiouAEIOU\"\n",
        "    return \"\".join(filter(lambda char: char not in vowels, s))\n",
        "\n",
        "text = \"Hello, World!\"\n",
        "result = remove_vowels(text)\n",
        "print(result)"
      ],
      "metadata": {
        "colab": {
          "base_uri": "https://localhost:8080/"
        },
        "id": "wFnC0SdWyg0n",
        "outputId": "53d10e8f-88d1-4ad3-9fbf-8cd5ba8bbad1"
      },
      "execution_count": 21,
      "outputs": [
        {
          "output_type": "stream",
          "name": "stdout",
          "text": [
            "Hll, Wrld!\n"
          ]
        }
      ]
    }
  ]
}