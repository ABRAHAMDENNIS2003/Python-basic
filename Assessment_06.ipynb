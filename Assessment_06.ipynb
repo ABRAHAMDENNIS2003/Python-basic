{
  "nbformat": 4,
  "nbformat_minor": 0,
  "metadata": {
    "colab": {
      "provenance": []
    },
    "kernelspec": {
      "name": "python3",
      "display_name": "Python 3"
    },
    "language_info": {
      "name": "python"
    }
  },
  "cells": [
    {
      "cell_type": "markdown",
      "source": [
        "## ANSWER\n",
        "\n",
        "1. NumPy is a fundamental Python library used for numerical computing, providing efficient tools for working with multi-dimensional arrays and matrices. It's used in Python for its speed, efficiency, and ability to perform complex mathematical operations on large datasets, making it an essential library in fields like data science and scientific computing.\n",
        "\n",
        "2. The term broadcasting describes how NumPy treats arrays with different shapes during arithmetic operations. Subject to certain constraints, the smaller array is “broadcast” across the larger array so that they have compatible shapes.\n",
        "\n",
        "3. Pandas DataFrame is a way to represent and work with tabular data. It can be seen as a table that organizes data into rows and columns, making it a two-dimensional data structure. A DataFrame can be created from scratch, or you can use other data structures, like NumPy arrays\n",
        "\n",
        "4. The groupby function in Pandas is a tool that helps you organize data into groups based on certain criteria, like the values in a column. This makes it easier to analyze and summarize your data. Let me take an example to elaborate on this. Let's say we are trying to analyze the weight of a person in a city.\n",
        "\n",
        "5. Ease of use: One of the main advantages of Seaborn over Matplotlib is its ease of use. Seaborn is built on top of Matplotlib and provides a higher-level interface for creating statistical graphics. This means that Seaborn requires less code to create complex visualizations compared to Matplotlib.\n",
        "\n",
        "6. The biggest difference is NumPy arrays use fewer resources than Python lists, which becomes important when storing a large amount of data. If you're working with thousands of elements, Python lists will be fine for most purposes.\n",
        "\n",
        "7. A heatmap is a data visualization technique that uses color to represent the magnitude of values across a two-dimensional space. It's essentially a table or grid where each cell's color corresponds to a specific value, allowing for a quick visual overview of data patterns. Heatmaps are useful for analyzing website user behavior, visualizing complex data sets, and identifying trends or correlations.\n",
        "\n",
        "8. Vectorized operations, on the other hand, take advantage of low-level optimizations implemented in libraries like NumPy (which pandas is built on). These operations apply a function to an entire array (or DataFrame/Series) at once, leveraging highly efficient C and Fortran code under the hood.\n",
        "\n",
        "9. Matplotlib: Is often preferred for academic or highly customized plots because you can fine-tune just about any aspect of the figure—fonts, margins, axis scales, etc. Plotly: While still highly customizable, Plotly's real strength lies in interactivity and web-based visuals.\n",
        "\n",
        "10. Hierarchical Indexing, also known as MultiIndexing, is a powerful feature in Pandas that allows you to have multiple levels of indexing on an axis (row or column). This capability is particularly useful when dealing with high-dimensional data.\n",
        "\n",
        "11. Seaborn Pairplot: A Guide | Built InSeaborn's pairplot() function creates a grid of plots that visually shows pairwise relationships between all variables in a dataset, offering a quick overview of distributions and correlations. It plots histograms on the diagonal to show individual variable distributions and scatter plots on the off-diagonal to represent relationships between pairs of variables.\n",
        "\n",
        "12. The purpose of the describe() function in Pandas is to generate descriptive statistics for a DataFrame or Series. It provides a summary of the data, including the count, mean, standard deviation, minimum, 25th percentile (Q1), median (50th percentile or Q2), 75th percentile (Q3), and maximum values for each numerical column. For non-numerical columns, it also provides statistics like unique values, top value, and frequency.\n",
        "\n",
        "13. Handling missing data in Pandas is crucial for data integrity, accurate analysis, and reliable machine learning model performance. Unaddressed missing values can lead to skewed results, biased models, and inaccurate insights.\n",
        "\n",
        "14. Pros: High interactivity: gives the end-user a wealth of options to interact with data through zooming, panning, and hovering, letting them explore the data on their own terms. Versatile chart options: from bar charts to heatmaps, there are many options for different data types and use cases.\n",
        "\n",
        "15. For numpy, all data in any multi-dimensional array is actually stored in memory as a long 1D array (we will get back to this in the master lecture). The number of dimensions and shape of an array is actually only used to structure the data access in a certain way.\n",
        "\n",
        "16. Start using this Interactive Data Visualization Library ...Bokeh is a Python library primarily used for creating interactive data visualizations that target modern web browsers. It allows users to build a wide range of visualizations, from simple plots to complex dashboards, and focuses on delivering JavaScript-powered visualizations without requiring extensive JavaScript coding. Bokeh excels at handling large datasets efficiently and offers features like zooming, panning, and tooltips for interactive exploration.\n",
        "\n",
        "17. map' applies a function to each element of a series and returns a new series with the function applied. Often used when a transformation or substitution is needed. 'apply' can be used on both Series(Element-wise) and DataFrames(Rows or Columns), returns a new Dataframe or series.\n",
        "\n",
        "18. NumPy, a fundamental Python library for scientific computing, offers several advanced features beyond its core functionalities. These include broadcasting, structured arrays, fancy indexing, and advanced array manipulation. Additionally, NumPy provides functionalities for universal functions (ufuncs), linear algebra, and performance optimization.\n",
        "\n",
        "19. Many data analysts choose Pandas for time series analysis because it provides easy ways of manipulating the data. For example, the DatetimeIndex makes performing most operations in Pandas very simple, as it allows you to index, slice, and resample data based on the date and time.\n",
        "\n",
        "20. It allows you to restructure a DataFrame by turning rows into columns and columns into rows based on a specified index column, a specified columns column, and a specified values column. This creates a summary table of the data that is easy to read and analyze.\n",
        "\n",
        "21. They are faster as they are stored in a continuous place in a memory. In this article, we'll explore NumPy array slicing, which involves taking some elements from one given index to another given index.\n",
        "\n",
        "22. Seaborn is primarily used for statistical data visualization, making it a powerful tool for exploratory data analysis (EDA), understanding data relationships, and communicating insights through visualizations. It's particularly helpful for tasks like identifying trends, visualizing correlations, and exploring data distributions."
      ],
      "metadata": {
        "id": "G_dSlDQTB4wv"
      }
    },
    {
      "cell_type": "code",
      "source": [
        "## CODE"
      ],
      "metadata": {
        "id": "7n0WNHSzHuUa"
      },
      "execution_count": null,
      "outputs": []
    },
    {
      "cell_type": "code",
      "source": [
        "1.\n",
        "import numpy as np\n",
        "\n",
        "arr = np.array([[1, 2, 3], [4, 5, 6], [7, 8, 9]])"
      ],
      "metadata": {
        "id": "lqTE9KGpHwq6"
      },
      "execution_count": null,
      "outputs": []
    },
    {
      "cell_type": "code",
      "source": [
        "2.\n",
        "import pandas as pd\n",
        "\n",
        "data = {'Name': ['Alice', 'Bob', 'Charlie', 'David'],\n",
        "        'Age': [25, 30, 35, 40],\n",
        "        'Salary': [50000, 60000, 70000, 80000]}\n",
        "df = pd.DataFrame(data)\n",
        "\n",
        "salary_mean = df['Salary'].mean()\n",
        "\n",
        "print(f\"The mean salary is: {salary_mean}\")"
      ],
      "metadata": {
        "id": "qfI_QV32Ihpp"
      },
      "execution_count": null,
      "outputs": []
    },
    {
      "cell_type": "code",
      "source": [
        "3.\n",
        "import matplotlib.pyplot as plt\n",
        "\n",
        "x = [10, 20, 30, 40, 50]\n",
        "y = [15, 25, 35, 45, 55]\n",
        "\n",
        "plt.scatter(x, y, color='green', marker='x', s=100)  # 's' sets the size of points\n",
        "\n",
        "plt.xlabel('X values')\n",
        "plt.ylabel('Y values')\n",
        "plt.title('Example Scatter Plot')\n",
        "\n",
        "plt.grid(True)\n",
        "plt.show()"
      ],
      "metadata": {
        "id": "r_l_oOZ-Iz5J"
      },
      "execution_count": null,
      "outputs": []
    },
    {
      "cell_type": "code",
      "source": [
        "4.\n",
        "import seaborn as sns\n",
        "import matplotlib.pyplot as plt\n",
        "import pandas as pd\n",
        "\n",
        "data = {\n",
        "    'A': [1, 2, 3, 4, 5],\n",
        "    'B': [5, 4, 3, 2, 1],\n",
        "    'C': [2, 3, 4, 5, 6],\n",
        "}\n",
        "\n",
        "df = pd.DataFrame(data)\n",
        "\n",
        "corr = df.corr()\n",
        "\n",
        "plt.figure(figsize=(8, 6))\n",
        "sns.heatmap(corr, annot=True, cmap='coolwarm', linewidths=0.5)\n",
        "\n",
        "plt.title('Correlation Matrix Heatmap')\n",
        "\n",
        "plt.show()\n"
      ],
      "metadata": {
        "id": "Ju6g-oUOJp2a"
      },
      "execution_count": null,
      "outputs": []
    },
    {
      "cell_type": "code",
      "source": [
        "5.\n",
        "import plotly.express as px\n",
        "\n",
        "data = {\n",
        "    'Fruits': ['Apples', 'Bananas', 'Cherries', 'Dates'],\n",
        "    'Quantity': [10, 15, 7, 5]\n",
        "}\n",
        "\n",
        "import pandas as pd\n",
        "df = pd.DataFrame(data)\n",
        "\n",
        "fig = px.bar(df, x='Fruits', y='Quantity', title='Fruit Quantity Bar Plot')\n",
        "\n",
        "fig.show()"
      ],
      "metadata": {
        "id": "ciVibHfkKAkF"
      },
      "execution_count": null,
      "outputs": []
    },
    {
      "cell_type": "code",
      "source": [
        "6.\n",
        "import pandas as pd\n",
        "\n",
        "data = {\n",
        "    'Name': ['Alice', 'Bob', 'Charlie', 'David'],\n",
        "    'Score': [85, 62, 90, 70]\n",
        "}\n",
        "\n",
        "df = pd.DataFrame(data)\n",
        "\n",
        "df['Passed'] = df['Score'] >= 70\n",
        "\n",
        "print(df)"
      ],
      "metadata": {
        "id": "8eRYE4GCKQE7"
      },
      "execution_count": null,
      "outputs": []
    },
    {
      "cell_type": "code",
      "source": [
        "7.\n",
        "import numpy as np\n",
        "\n",
        "array1 = np.array([1, 2, 3, 4])\n",
        "array2 = np.array([5, 6, 7, 8])\n",
        "\n",
        "result = array1 * array2\n",
        "\n",
        "print(\"Array 1:\", array1)\n",
        "print(\"Array 2:\", array2)\n",
        "print(\"Element-wise multiplication:\", result)\n"
      ],
      "metadata": {
        "id": "JAobUPd8Keag"
      },
      "execution_count": null,
      "outputs": []
    },
    {
      "cell_type": "code",
      "source": [
        "8.\n",
        "import matplotlib.pyplot as plt\n",
        "\n",
        "x = [1, 2, 3, 4, 5]\n",
        "y1 = [1, 4, 9, 16, 25]\n",
        "y2 = [2, 3, 5, 7, 11]\n",
        "y3 = [5, 3, 2, 4, 1]\n",
        "\n",
        "plt.plot(x, y1, label='y = x²', color='blue', linestyle='-')\n",
        "plt.plot(x, y2, label='Prime Numbers', color='green', linestyle='--')\n",
        "plt.plot(x, y3, label='Random', color='red', linestyle='-.')\n",
        "\n",
        "plt.xlabel('X Axis')\n",
        "plt.ylabel('Y Axis')\n",
        "plt.title('Multiple Line Plot Example')\n",
        "\n",
        "plt.legend()\n",
        "\n",
        "plt.grid(True)\n",
        "\n",
        "plt.show()"
      ],
      "metadata": {
        "id": "_r4wqxT0KscT"
      },
      "execution_count": null,
      "outputs": []
    },
    {
      "cell_type": "code",
      "source": [
        "9.\n",
        "import pandas as pd\n",
        "\n",
        "data = {\n",
        "    'Name': ['Alice', 'Bob', 'Charlie', 'David', 'Eva'],\n",
        "    'Age': [25, 17, 35, 16, 29]\n",
        "}\n",
        "\n",
        "df = pd.DataFrame(data)\n",
        "\n",
        "age_threshold = 18\n",
        "\n",
        "filtered_df = df[df['Age'] > age_threshold]\n",
        "\n",
        "print(filtered_df)"
      ],
      "metadata": {
        "id": "gZlp4qo5K9OZ"
      },
      "execution_count": null,
      "outputs": []
    },
    {
      "cell_type": "code",
      "source": [
        "10.\n",
        "import seaborn as sns\n",
        "import matplotlib.pyplot as plt\n",
        "import numpy as np\n",
        "\n",
        "data = np.random.normal(loc=50, scale=10, size=1000)\n",
        "\n",
        "sns.histplot(data, bins=30, kde=True, color='skyblue')\n",
        "\n",
        "plt.title('Distribution of Values')\n",
        "plt.xlabel('Value')\n",
        "plt.ylabel('Frequency')\n",
        "\n",
        "plt.show()"
      ],
      "metadata": {
        "id": "Kv1f_eSzLM4n"
      },
      "execution_count": null,
      "outputs": []
    },
    {
      "cell_type": "code",
      "source": [
        "11.\n",
        "import numpy as np\n",
        "\n",
        "A = np.array([[1, 2],\n",
        "              [3, 4]])\n",
        "\n",
        "B = np.array([[5, 6],\n",
        "              [7, 8]])\n",
        "\n",
        "result = np.matmul(A, B)\n",
        "\n",
        "print(\"Matrix A:\\n\", A)\n",
        "print(\"Matrix B:\\n\", B)\n",
        "print(\"A x B:\\n\", result)"
      ],
      "metadata": {
        "id": "PuL19wMtLbsO"
      },
      "execution_count": null,
      "outputs": []
    },
    {
      "cell_type": "code",
      "source": [
        "12.\n",
        "import pandas as pd\n",
        "\n",
        "df = pd.read_csv('your_file.csv')\n",
        "\n",
        "print(df.head())"
      ],
      "metadata": {
        "id": "2YIWSm1aLota"
      },
      "execution_count": null,
      "outputs": []
    },
    {
      "cell_type": "code",
      "source": [
        "13.\n",
        "import plotly.express as px\n",
        "import pandas as pd\n",
        "\n",
        "data = {\n",
        "    'X': [1, 2, 3, 4, 5],\n",
        "    'Y': [6, 7, 8, 9, 10],\n",
        "    'Z': [11, 12, 13, 14, 15],\n",
        "    'Color': [5, 10, 15, 20, 25]\n",
        "}\n",
        "\n",
        "df = pd.DataFrame(data)\n",
        "\n",
        "fig = px.scatter_3d(df, x='X', y='Y', z='Z', color='Color', title='3D Scatter Plot Example')\n",
        "\n",
        "fig.show()"
      ],
      "metadata": {
        "id": "GkR3rwEwL3tm"
      },
      "execution_count": null,
      "outputs": []
    }
  ]
}