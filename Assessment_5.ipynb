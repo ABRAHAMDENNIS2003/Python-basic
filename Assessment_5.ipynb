{
  "nbformat": 4,
  "nbformat_minor": 0,
  "metadata": {
    "colab": {
      "provenance": []
    },
    "kernelspec": {
      "name": "python3",
      "display_name": "Python 3"
    },
    "language_info": {
      "name": "python"
    }
  },
  "cells": [
    {
      "cell_type": "markdown",
      "source": [],
      "metadata": {
        "id": "bVj0JAm2bImF"
      }
    },
    {
      "cell_type": "markdown",
      "source": [
        "Answers\n",
        "\n",
        "1. The key difference between interpreted and compiled languages lies in how they process code: interpreted languages execute code line by line, while compiled languages translate the entire code into machine code before execution.\n",
        "\n",
        "2. In Python, exception handling allows you to anticipate and manage errors (exceptions) that occur during program execution, preventing crashes and enabling graceful recovery or error reporting. You do this using try, except, else, and finally blocks.\n",
        "\n",
        "3. The purpose of the finally block in exception handling is to ensure that a specific block of code, typically for resource cleanup or essential actions, is always executed when the try block exits, regardless of whether an exception occurred or not.\n",
        "\n",
        "4. In Python, logging is a mechanism to track events that occur during program execution, helping developers monitor application behavior, debug issues, and ensure software stability. It's a built-in module that allows you to record messages, errors, and other relevant information to a file or other output streams.\n",
        "\n",
        "5. In Python, the __del__ method, also known as a destructor, is a special method that is called when an object is about to be destroyed, typically when all references to it are gone, allowing for cleanup of resources before the object is garbage collected.\n",
        "\n",
        "6. The difference between import and from import in Python is: import imports an entire code library. from import imports a specific member or members of the library.\n",
        "\n",
        "7. In Python, you can handle multiple exceptions using a single except block by specifying them as a tuple within the except statement, allowing you to handle different exceptions with the same code.\n",
        "\n",
        "Handling Multiple Exceptions in a Single except Block:\n",
        "Instead of having separate except blocks for each exception, you can specify multiple exception types as a tuple within the except clause.\n",
        "\n",
        "8. The with statement in Python, when used with file handling, ensures that a file is automatically closed after its operations are complete, even if errors occur, simplifying resource management and making code cleaner and more robust.\n",
        "\n",
        "9. Multithreading involves executing multiple threads within a single process, sharing resources, while multiprocessing involves running multiple processes independently, each with its own resources.\n",
        "Here's a more detailed breakdown:\n",
        "Multithreading:\n",
        "Definition:\n",
        "Multithreading allows a program to perform multiple tasks concurrently within a single process.\n",
        "Resource Sharing:\n",
        "Threads within the same process share the same memory space, making communication and data sharing efficient but requiring careful management to avoid conflicts.\n",
        "\n",
        "10. Logging in programming offers several advantages, primarily aiding in debugging, performance analysis, and monitoring by providing a record of a program's activities, including errors, warnings, and events.\n",
        "\n",
        "11. In Python, memory management is an automatic process where the interpreter allocates and deallocates memory for objects, using a private heap and a garbage collector to prevent memory leaks and ensure efficient resource usage.\n",
        "\n",
        "12. In Python, exception handling involves using try, except, else, and finally blocks to gracefully manage errors and prevent program crashes. The try block contains code that might raise an exception, the except block handles specific exceptions, the else block executes if no exception occurs, and the finally block always executes for cleanup.\n",
        "\n",
        "13. Memory management is crucial in Python, and other programming languages, because it directly impacts program efficiency, performance, and stability. Python's automatic memory management, using reference counting and a garbage collector, simplifies development but understanding it helps write memory-efficient code and prevent potential issues.\n",
        "\n",
        "14. In exception handling, the try block contains code that might raise an error, and the except block handles those errors (exceptions) gracefully, preventing the program from crashing and allowing it to continue execution.\n",
        "\n",
        "15. Python's garbage collection system automatically manages memory by reclaiming memory occupied by objects that are no longer referenced, primarily using reference counting and a cyclic garbage collector to handle circular references.\n",
        "\n",
        "16. In exception handling, the else block is executed only if no exceptions are raised within the preceding try block. It's used to execute code that should run only when the try block's operations succeed, providing a way to enhance program flow based on the absence of errors.\n",
        "\n",
        "17. There are six levels for logging in Python; each level is associated with an integer that indicates the log severity: NOTSET=0, DEBUG=10, INFO=20, WARN=30, ERROR=40, and CRITICAL=50.\n",
        "\n",
        "19. (18 Question) Closing files in Python is an essential practice that helps maintain data integrity, prevent resource leaks, and ensure the reliability of your applications. By mastering file handling techniques, you can write more robust and efficient Python code that effectively manages file resources.\n",
        "\n",
        "20. (20 Question)In Python, read() reads the entire file content as a single string, while readline() reads a single line from the file at a time, returning it as a string.\n",
        "Here's a more detailed explanation:\n",
        "read():\n",
        "Reads the entire file content into a single string.\n",
        "If no argument is provided, it reads the entire file.\n",
        "If a size argument is provided, it reads that many bytes from the current file position.\n",
        "Can be less efficient for large files as it loads the entire file into memory.\n",
        "readline():\n",
        "Reads a single line from the file, up to the newline character (\\n).\n",
        "Returns the line as a string.\n",
        "If the end of the file is reached, it returns an empty string.\n",
        "Suitable for reading files line by line.\n",
        "\n",
        "21. (21 Question ) The Python logging module is a powerful tool for tracking events, debugging, and monitoring software, allowing developers to record information about errors, warnings, and other events during program execution.\n",
        "\n",
        "22. (22 Question) Python has a built-in os module with methods for interacting with the operating system, like creating files and directories, management of files and directories, input, output, environment variables, process management, etc.\n",
        "\n",
        "23. (23 Question) Python's automatic memory management, while simplifying development, presents challenges like potential memory leaks due to circular references, performance overhead from garbage collection, and difficulty in optimizing memory usage for specific applications.\n",
        "\n",
        "24. (24 Question) As a Python developer you can choose to throw an exception if a condition occurs. To throw (or raise) an exception, use the raise keyword.\n",
        "\n",
        "25. (25 Question) Multithreading is crucial for certain applications as it enables concurrent execution of tasks, leading to improved performance, resource utilization, and responsiveness, especially in applications involving I/O or waiting for external events."
      ],
      "metadata": {
        "id": "-SzSb2JlbIpn"
      }
    },
    {
      "cell_type": "code",
      "source": [
        "## Now practical or code\n",
        "\n",
        "1.\n",
        "\n",
        "with open(\"file.txt\", \"w\") as f:\n",
        "    f.write(\"Created using write mode.\")\n",
        "\n",
        "f = open(\"file.txt\",\"r\")\n",
        "print(f.read())\n",
        "\n",
        "# Append mode: Creates a new file or appends to an existing file\n",
        "\n",
        "with open(\"file.txt\", \"a\") as f:\n",
        "    f.write(\"Content appended to the file.\")\n",
        "\n",
        "f = open(\"file.txt\",\"r\")\n",
        "print(f.read())\n",
        "\n",
        "# Exclusive creation mode: Creates a new file, raises error if file exists\n",
        "\n",
        "try:\n",
        "    with open(\"file.txt\", \"x\") as f:\n",
        "        f.write(\"Created using exclusive mode.\")\n",
        "except FileExistsError:\n",
        "    print(\"Already exists.\")"
      ],
      "metadata": {
        "id": "xYsMpXHvfZGf",
        "colab": {
          "base_uri": "https://localhost:8080/"
        },
        "outputId": "093a08bf-6dc3-4295-babb-d8aabe4dadd4"
      },
      "execution_count": 1,
      "outputs": [
        {
          "output_type": "stream",
          "name": "stdout",
          "text": [
            "Created using write mode.\n",
            "Created using write mode.Content appended to the file.\n",
            "Already exists.\n"
          ]
        }
      ]
    },
    {
      "cell_type": "code",
      "source": [
        "2.\n",
        "\n",
        "file_path = 'example.txt'\n",
        "\n",
        "with open(file_path, 'r') as file:\n",
        "\n",
        "    for line in file:\n",
        "        print(line, end='')"
      ],
      "metadata": {
        "id": "zahDrHaC9CAI"
      },
      "execution_count": 4,
      "outputs": []
    },
    {
      "cell_type": "code",
      "source": [
        "3.\n",
        "file_path = 'example.txt'\n",
        "\n",
        "try:\n",
        "\n",
        "    with open(file_path, 'r') as file:\n",
        "\n",
        "        for line in file:\n",
        "            print(line, end='')\n",
        "except FileNotFoundError:\n",
        "    print(f\"Error: The file '{file_path}' does not exist.\")"
      ],
      "metadata": {
        "colab": {
          "base_uri": "https://localhost:8080/"
        },
        "id": "ltkXy-CQ9Nsz",
        "outputId": "1ea45a8c-79dc-46dd-9771-94b1c23a2fa3"
      },
      "execution_count": 5,
      "outputs": [
        {
          "output_type": "stream",
          "name": "stdout",
          "text": [
            "Error: The file 'example.txt' does not exist.\n"
          ]
        }
      ]
    },
    {
      "cell_type": "code",
      "source": [
        "4.\n",
        "input_file_path = 'input.txt'\n",
        "output_file_path = 'output.txt'\n",
        "\n",
        "try:\n",
        "\n",
        "    with open(input_file_path, 'r') as input_file:\n",
        "\n",
        "        with open(output_file_path, 'w') as output_file:\n",
        "\n",
        "            for line in input_file:\n",
        "                output_file.write(line)\n",
        "    print(f\"Content has been successfully copied from '{input_file_path}' to '{output_file_path}'.\")\n",
        "\n",
        "except FileNotFoundError:\n",
        "    print(f\"Error: The file '{input_file_path}' does not exist.\")\n",
        "except Exception as e:\n",
        "    print(f\"An error occurred: {e}\")"
      ],
      "metadata": {
        "colab": {
          "base_uri": "https://localhost:8080/"
        },
        "id": "SoaSLcWx97Kr",
        "outputId": "59d3d70b-58a7-4c41-ca3f-e66b72d85275"
      },
      "execution_count": 6,
      "outputs": [
        {
          "output_type": "stream",
          "name": "stdout",
          "text": [
            "Error: The file 'input.txt' does not exist.\n"
          ]
        }
      ]
    },
    {
      "cell_type": "code",
      "source": [
        "5.\n",
        "try:\n",
        "\n",
        "    numerator = 10\n",
        "    denominator = 0\n",
        "    result = numerator / denominator\n",
        "    print(f\"Result: {result}\")\n",
        "except ZeroDivisionError:\n",
        "    print(\"Error: Cannot divide by zero!\")"
      ],
      "metadata": {
        "colab": {
          "base_uri": "https://localhost:8080/"
        },
        "id": "lt0bP9Nn-NoB",
        "outputId": "121dd6ea-a765-4db5-c948-b55b9277158d"
      },
      "execution_count": 7,
      "outputs": [
        {
          "output_type": "stream",
          "name": "stdout",
          "text": [
            "Error: Cannot divide by zero!\n"
          ]
        }
      ]
    },
    {
      "cell_type": "code",
      "source": [
        "6.\n",
        "import logging\n",
        "\n",
        "logging.basicConfig(\n",
        "    filename='error_log.txt',\n",
        "    level=logging.ERROR,\n",
        "    format='%(asctime)s - %(levelname)s - %(message)s'\n",
        ")\n",
        "\n",
        "try:\n",
        "\n",
        "    numerator = 10\n",
        "    denominator = 0\n",
        "    result = numerator / denominator\n",
        "    print(f\"Result: {result}\")\n",
        "except ZeroDivisionError as e:\n",
        "\n",
        "    logging.error(f\"Attempted division by zero: {e}\")\n",
        "    print(\"Error: Cannot divide by zero! The error has been logged.\")"
      ],
      "metadata": {
        "colab": {
          "base_uri": "https://localhost:8080/"
        },
        "id": "z-MtcdCV-Yh4",
        "outputId": "fb161039-27ad-434e-f19a-26abbcb74b14"
      },
      "execution_count": 8,
      "outputs": [
        {
          "output_type": "stream",
          "name": "stderr",
          "text": [
            "ERROR:root:Attempted division by zero: division by zero\n"
          ]
        },
        {
          "output_type": "stream",
          "name": "stdout",
          "text": [
            "Error: Cannot divide by zero! The error has been logged.\n"
          ]
        }
      ]
    },
    {
      "cell_type": "code",
      "source": [
        "7.\n",
        "import logging\n",
        "\n",
        "logging.basicConfig(\n",
        "    filename='app_log.txt',\n",
        "    level=logging.DEBUG,\n",
        "    format='%(asctime)s - %(levelname)s - %(message)s'\n",
        ")\n",
        "\n",
        "# Log messages at different levels\n",
        "\n",
        "# DEBUG level message\n",
        "logging.debug(\"This is a debug message. It provides detailed information.\")\n",
        "\n",
        "# INFO level message\n",
        "logging.info(\"This is an info message. It indicates progress or general information.\")\n",
        "\n",
        "# WARNING level message\n",
        "logging.warning(\"This is a warning message. Something unexpected happened.\")\n",
        "\n",
        "# ERROR level message\n",
        "logging.error(\"This is an error message. An issue occurred preventing the task from being completed.\")\n",
        "\n",
        "# CRITICAL level message\n",
        "logging.critical(\"This is a critical message. A serious issue that may cause the program to stop.\")"
      ],
      "metadata": {
        "id": "0CNfajaZ-qbi"
      },
      "execution_count": null,
      "outputs": []
    },
    {
      "cell_type": "code",
      "source": [
        "8.\n",
        "try:\n",
        "    file_path = 'nonexistent_file.txt'\n",
        "    with open(file_path, 'r') as file:\n",
        "        content = file.read()\n",
        "        print(content)\n",
        "except FileNotFoundError:\n",
        "    print(f\"Error: The file '{file_path}' was not found.\")\n",
        "except PermissionError:\n",
        "    print(f\"Error: You do not have permission to open the file '{file_path}'.\")\n",
        "except Exception as e:\n",
        "    print(f\"An unexpected error occurred: {e}\")"
      ],
      "metadata": {
        "id": "1le6xB4t_CHi"
      },
      "execution_count": null,
      "outputs": []
    },
    {
      "cell_type": "code",
      "source": [
        "9.\n",
        "try:\n",
        "    with open('example.txt', 'r') as file:\n",
        "        lines = file.readlines()\n",
        "    print(lines)\n",
        "except FileNotFoundError:\n",
        "    print(\"Error: The file does not exist.\")"
      ],
      "metadata": {
        "id": "heQXg8kH_Tm7"
      },
      "execution_count": null,
      "outputs": []
    },
    {
      "cell_type": "code",
      "source": [
        "10.\n",
        "file_path = 'example.txt'\n",
        "\n",
        "data_to_append = \"This is new content to be appended to the file.\\n\"\n",
        "\n",
        "with open(file_path, 'a') as file:\n",
        "    file.write(data_to_append)\n",
        "\n",
        "print(\"Data has been appended to the file.\")"
      ],
      "metadata": {
        "id": "rUAB8yfl_gqf"
      },
      "execution_count": null,
      "outputs": []
    },
    {
      "cell_type": "code",
      "source": [
        "11.\n",
        "my_dict = {'name': 'Alice', 'age': 25}\n",
        "\n",
        "key_to_access = 'address'\n",
        "\n",
        "try:\n",
        "    value = my_dict[key_to_access]\n",
        "    print(f\"The value for '{key_to_access}' is: {value}\")\n",
        "except KeyError:\n",
        "    print(f\"Error: The key '{key_to_access}' does not exist in the dictionary.\")"
      ],
      "metadata": {
        "id": "GRkP3p5z_x2m"
      },
      "execution_count": null,
      "outputs": []
    },
    {
      "cell_type": "code",
      "source": [
        "12.\n",
        "def handle_exceptions():\n",
        "    try:\n",
        "        num1 = int(input(\"Enter the first number: \"))\n",
        "        num2 = int(input(\"Enter the second number: \"))\n",
        "\n",
        "        result = num1 / num2\n",
        "        print(f\"The result of {num1} divided by {num2} is {result}\")\n",
        "\n",
        "        my_list = [1, 2, 3]\n",
        "        index = int(input(\"Enter an index to access in the list: \"))\n",
        "        print(f\"Value at index {index} is {my_list[index]}\")\n",
        "\n",
        "    except ValueError:\n",
        "        print(\"Error: Invalid input. Please enter a valid number.\")\n",
        "    except ZeroDivisionError:\n",
        "        print(\"Error: Cannot divide by zero!\")\n",
        "    except IndexError:\n",
        "        print(\"Error: Index out of range in the list.\")\n",
        "    except Exception as e:\n",
        "        print(f\"An unexpected error occurred: {e}\")\n",
        "\n",
        "handle_exceptions()"
      ],
      "metadata": {
        "id": "idUYNP1g_9wO"
      },
      "execution_count": null,
      "outputs": []
    },
    {
      "cell_type": "code",
      "source": [
        "13.\n",
        "import os\n",
        "\n",
        "file_path = 'example.txt'\n",
        "\n",
        "if os.path.exists(file_path):\n",
        "    with open(file_path, 'r') as file:\n",
        "        content = file.read()\n",
        "        print(content)\n",
        "else:\n",
        "    print(f\"Error: The file '{file_path}' does not exist.\")"
      ],
      "metadata": {
        "id": "x1em1EVRAM1v"
      },
      "execution_count": null,
      "outputs": []
    },
    {
      "cell_type": "code",
      "source": [
        "14.\n",
        "import logging\n",
        "\n",
        "logging.basicConfig(\n",
        "    filename='app_log.txt',\n",
        "    level=logging.DEBUG,\n",
        "    format='%(asctime)s - %(levelname)s - %(message)s')\n",
        "\n",
        "logging.info(\"This is an informational message, indicating normal operation.\")\n",
        "\n",
        "try:\n",
        "    num1 = 10\n",
        "    num2 = 0\n",
        "    result = num1 / num2\n",
        "except ZeroDivisionError as e:\n",
        "    logging.error(f\"Error occurred: {e}\")\n",
        "\n",
        "logging.info(\"The program completed successfully after handling the error.\")"
      ],
      "metadata": {
        "id": "YCaOi_L7Aa2e"
      },
      "execution_count": null,
      "outputs": []
    },
    {
      "cell_type": "code",
      "source": [
        "15.\n",
        "def read_file(file_path):\n",
        "    try:\n",
        "        with open(file_path, 'r') as file:\n",
        "            content = file.read()\n",
        "\n",
        "            if not content:\n",
        "                print(f\"The file '{file_path}' is empty.\")\n",
        "            else:\n",
        "                print(f\"Content of the file '{file_path}':\")\n",
        "                print(content)\n",
        "\n",
        "    except FileNotFoundError:\n",
        "        print(f\"Error: The file '{file_path}' does not exist.\")\n",
        "    except Exception as e:\n",
        "        print(f\"An unexpected error occurred: {e}\")\n",
        "\n",
        "file_path = 'example.txt'\n",
        "\n",
        "read_file(file_path)"
      ],
      "metadata": {
        "id": "U6viPdtHA48y"
      },
      "execution_count": null,
      "outputs": []
    },
    {
      "cell_type": "code",
      "source": [
        "16.\n",
        "from memory_profiler import profile\n",
        "\n",
        "@profile\n",
        "def my_function():\n",
        "    a = [i for i in range(1000000)]\n",
        "    b = [i**2 for i in range(1000)]\n",
        "    del b\n",
        "    return a\n",
        "\n",
        "if __name__ == \"__main__\":\n",
        "    my_function()"
      ],
      "metadata": {
        "id": "B4yD3BY6BGJO"
      },
      "execution_count": null,
      "outputs": []
    },
    {
      "cell_type": "code",
      "source": [
        "17.\n",
        "def write_numbers_to_file(file_name, numbers):\n",
        "    try:\n",
        "        with open(file_name, 'w') as file:\n",
        "\n",
        "            for number in numbers:\n",
        "                file.write(f\"{number}\\n\")\n",
        "        print(f\"Numbers have been successfully written to '{file_name}'.\")\n",
        "\n",
        "    except Exception as e:\n",
        "        print(f\"An error occurred: {e}\")\n",
        "\n",
        "numbers_list = [1, 2, 3, 4, 5, 6, 7, 8, 9, 10]\n",
        "\n",
        "file_name = 'numbers.txt'\n",
        "\n",
        "write_numbers_to_file(file_name, numbers_list)"
      ],
      "metadata": {
        "id": "6YVA7kwQBX-O"
      },
      "execution_count": null,
      "outputs": []
    },
    {
      "cell_type": "code",
      "source": [
        "18.\n",
        "import logging\n",
        "from logging.handlers import RotatingFileHandler\n",
        "\n",
        "\n",
        "logger = logging.getLogger('my_logger')\n",
        "logger.setLevel(logging.DEBUG)\n",
        "\n",
        "\n",
        "log_file = 'my_log.log'\n",
        "max_log_size = 1 * 1024 * 1024\n",
        "backup_count = 3\n",
        "\n",
        "rotating_handler = RotatingFileHandler(log_file, maxBytes=max_log_size, backupCount=backup_count)\n",
        "rotating_handler.setLevel(logging.DEBUG)\n",
        "\n",
        "# Create a log format\n",
        "formatter = logging.Formatter('%(asctime)s - %(levelname)s - %(message)s')\n",
        "rotating_handler.setFormatter(formatter)\n",
        "\n",
        "# Add the handler to the logger\n",
        "logger.addHandler(rotating_handler)\n",
        "\n",
        "# Example log entries\n",
        "logger.debug(\"This is a debug message.\")\n",
        "logger.info(\"This is an info message.\")\n",
        "logger.warning(\"This is a warning message.\")\n",
        "logger.error(\"This is an error message.\")\n",
        "logger.critical(\"This is a critical message.\")\n",
        "\n",
        "print(\"Logging setup completed. Check the log file.\")"
      ],
      "metadata": {
        "id": "hPD1Esj_Bldo"
      },
      "execution_count": null,
      "outputs": []
    },
    {
      "cell_type": "code",
      "source": [
        "19.\n",
        "def handle_exceptions():\n",
        "    try:\n",
        "      my_list = [1, 2, 3]\n",
        "      index = int(input(\"Enter an index to access in the list: \"))\n",
        "      print(f\"Value at index {index} is {my_list[index]}\")"
      ],
      "metadata": {
        "id": "ByeUztoZB1JL"
      },
      "execution_count": null,
      "outputs": []
    },
    {
      "cell_type": "code",
      "source": [
        "20.\n",
        "def read_file_using_context_manager(file_path):\n",
        "    try:\n",
        "        with open(file_path, 'r') as file:\n",
        "\n",
        "            content = file.read()\n",
        "            print(content)\n",
        "    except FileNotFoundError:\n",
        "        print(f\"The file at {file_path} was not found.\")\n",
        "    except Exception as e:\n",
        "        print(f\"An error occurred: {e}\")\n",
        "\n",
        "file_path = 'example.txt'\n",
        "\n",
        "read_file_using_context_manager(file_path)"
      ],
      "metadata": {
        "id": "2JUMjceACKJx"
      },
      "execution_count": null,
      "outputs": []
    },
    {
      "cell_type": "code",
      "source": [
        "21.\n",
        "def count_word_occurrences(file_path, word_to_count):\n",
        "    try:\n",
        "        word_to_count = word_to_count.lower()\n",
        "        with open(file_path, 'r') as file:\n",
        "\n",
        "            word_count = 0\n",
        "            for line in file:\n",
        "                line = line.lower()\n",
        "\n",
        "                words = line.split()\n",
        "                word_count += words.count(word_to_count)\n",
        "\n",
        "        print(f\"The word '{word_to_count}' appears {word_count} times in the file.\")\n",
        "\n",
        "    except FileNotFoundError:\n",
        "        print(f\"The file at {file_path} was not found.\")\n",
        "    except Exception as e:\n",
        "        print(f\"An error occurred: {e}\")\n",
        "\n",
        "file_path = 'example.txt'\n",
        "word_to_count = 'python'\n",
        "\n",
        "count_word_occurrences(file_path, word_to_count)"
      ],
      "metadata": {
        "id": "tmN1kxUCCU1B"
      },
      "execution_count": null,
      "outputs": []
    },
    {
      "cell_type": "code",
      "source": [
        "22.\n",
        "import os\n",
        "\n",
        "def read_file_if_not_empty(file_path):\n",
        "    try:\n",
        "\n",
        "        if os.path.exists(file_path) and os.path.getsize(file_path) > 0:\n",
        "\n",
        "            with open(file_path, 'r') as file:\n",
        "                content = file.read()\n",
        "                print(\"File Content:\")\n",
        "                print(content)\n",
        "        else:\n",
        "            print(f\"The file '{file_path}' is empty or does not exist.\")\n",
        "    except Exception as e:\n",
        "        print(f\"An error occurred: {e}\")\n",
        "\n",
        "file_path = 'example.txt'\n",
        "\n",
        "read_file_if_not_empty(file_path)"
      ],
      "metadata": {
        "id": "N12mEy8RCuz1"
      },
      "execution_count": null,
      "outputs": []
    }
  ]
}