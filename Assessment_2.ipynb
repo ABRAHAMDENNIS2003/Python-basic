{
  "nbformat": 4,
  "nbformat_minor": 0,
  "metadata": {
    "colab": {
      "provenance": []
    },
    "kernelspec": {
      "name": "python3",
      "display_name": "Python 3"
    },
    "language_info": {
      "name": "python"
    }
  },
  "cells": [
    {
      "cell_type": "markdown",
      "source": [
        "Data Types and Structures Questions and answer.\n",
        "\n",
        "1.What are data structures, and why are they important3?\n",
        " - A data structure is a specific way of organizing and storing data within a computer program, allowing for efficient access, manipulation, and retrieval of information, making it a crucial component of computer science as it enables programmers to work with data effectively and solve problems efficiently.\n",
        "\n",
        " 2.Explain the difference between mutable and immutable data types with examples?\n",
        "  - Mutable data types can be changed after they are created, while immutable data types cannot.\n",
        "\n",
        " - Examples of mutable data types\n",
        "lists, dictionaries, sets, objects, functions, and dates.\n",
        "\n",
        " - Examples of immutable data types\n",
        "strings, tuples, numbers, booleans, null, and undefined.\n",
        "\n",
        "3.What are the main differences between lists and tuples in Python?\n",
        "\n",
        " - The main difference between lists and tuples in Python is that lists are mutable, while tuples are immutable. This means that lists can be changed, but tuples cannot.\n",
        "\n",
        " - List\n",
        "   - Lists are mutable\n",
        "   - The implication of iterations is Time-consuming\n",
        "   - The list is better for performing operations, such as insertion and deletion.\n",
        "   -Lists consume more memory\n",
        "   -Lists have several built-in methods\n",
        "   - Unexpected changes and errors are more likely to occur\n",
        " - TUPLE\n",
        "   - Tuples are immutable\n",
        "   - The implication of iterations is comparatively Faster\n",
        "   - A Tuple data type is appropriate for accessing the elements\n",
        "   - Tuple consumes less memory as compared to the list\n",
        "   - Tuple does not have many built-in methods.\n",
        "   - Because tuples don’t change they are far less error-prone.\n",
        "\n",
        "4.Describe how dictionaries store data?\n",
        " - Dictionaries are used to store data values in key:value pairs. A dictionary is a collection which is ordered*, changeable and do not allow duplicates.\n",
        "\n",
        "5.Why might you use a set instead of a list in Python?\n",
        "\n",
        " - The Python sets are highly useful to efficiently remove duplicate values from a collection like a list and to perform common math operations like unions and intersections. Some of the challenges people often encounter are when to use the various data types.\n",
        "\n",
        "6.What is a string in Python, and how is it different from a list?\n",
        "\n",
        " - A string is a sequence of characters between single or double quotes. A list is a sequence of items, where each item could be anything (an integer, a float, a string, etc).\n",
        "\n",
        "7.How do tuples ensure data integrity in Python?\n",
        "\n",
        " - Tuples are immutable to ensure that their contents remain constant throughout their lifecycle, guaranteeing data integrity and reliability. This immutability allows tuples to be used as keys in dictionaries and elements in sets, as they can be hashed.\n",
        "\n",
        "8.What is a hash table, and how does it relate to dictionaries in Python?\n",
        "\n",
        " - In Python, a hash table is a data structure that's used to implement dictionaries. A dictionary is a built-in data type that stores key-value pairs.\n",
        "\n",
        "9.Can lists contain different data types in Python?\n",
        "\n",
        " - Yes a list can also contain a mix of Python types including strings, floats, and booleans.\n",
        "\n",
        "10.Explain why strings are immutable in Python?\n",
        "\n",
        " - ython strings are \"immutable\" which means they cannot be changed after they are created (Java strings also use this immutable style). Since strings can't be changed, we construct *new* strings as we go to represent computed values.\n",
        "\n",
        "11.What advantages do dictionaries offer over lists for certain tasks?\n",
        "\n",
        " - Dictionaries are better than lists for tasks that require quick lookups or searches, while lists are better for ordered collections.\n",
        "Advantages of dictionaries\n",
        "\n",
        "Fast lookups: Dictionaries use hash tables to quickly access values based on keys.\n",
        "\n",
        "Easy to use: Dictionaries have built-in methods for manipulating data, such as get(), keys(), values(), and items().\n",
        "\n",
        "Flexible: Dictionaries can store any type of data as both the key and the value.\n",
        "\n",
        "Memory efficient: Dictionaries only store the key-value pairs that are needed.\n",
        "\n",
        "Easy to understand: Dictionaries consist of key-value pairs, making it easier to associate and access relevant data together.\n",
        "\n",
        "12.Describe a scenario where using a tuple would be preferable over a list?\n",
        "\n",
        " - Use a tuple if you need an immutable collection where the elements won't change after creation. Tuples are generally faster and more memory-efficient than lists, making them better for fixed collections, especially as dictionary keys or when iteration speed is crucial.\n",
        "\n",
        "13.How do sets handle duplicate values in Python?\n",
        "\n",
        " - Items of a set in python are immutable (unchangeable), do not duplicate values, and unordered. Thus, items in a set do not appear in a stipulated manner, i.e., they can appear in a different order every time it is used. Due to this, set items cannot be referred to by key or index.\n",
        "\n",
        " 14.How does the “in” keyword work differently for lists and dictionaries?\n",
        "\n",
        "  -  the in operation for the dictionary tests on keys. The key of the dictionary is a unique value as well as the set, and the execution time is about the same as for sets. On the other hand, dictionary values can be duplicated like a list.\n",
        "\n",
        "15.Can you modify the elements of a tuple? Explain why or why not?\n",
        "\n",
        " - No, you cannot modify the elements of a tuple in Python because tuples are immutable. This means that once a tuple is created, its elements are fixed and cannot be changed, added, or removed.\n",
        "\n",
        "   - Explanation\n",
        "\n",
        "Tuples are immutable, unlike lists, which are mutable and can be modified.\n",
        "If you try to change a tuple element, you'll get a TypeError error.\n",
        "\n",
        "You can perform other operations on a tuple that don't modify the original tuple, such as slicing.\n",
        "\n",
        "If you want to change the values of a tuple, you can convert the tuple to a list, change the list, and then convert the list back to a tuple.\n",
        "\n",
        "16.What is a nested dictionary, and give an example of its use case?\n",
        "\n",
        " - A nested dictionary is a data structure where a dictionary contains other dictionaries as its values, essentially creating a hierarchy of key-value pairs within a single dictionary\n",
        "\n",
        "  student_data = {\n",
        "\n",
        "        \"Math 101\": {\"John\": 85, \"Jane\": 90},\n",
        "\n",
        "        \"Science 102\": {\"Mike\": 78, \"Alice\": 82}\n",
        "\n",
        "    }\n",
        "\n",
        "17.Describe the time complexity of accessing elements in a dictionary?\n",
        "\n",
        " - How dictionary do operation like an array with O(1 ...The time complexity of accessing an element in a Python dictionary is O(1) on average, which means it takes constant time. However, in the worst case, it can be O(n) if there are many hash collisions.\n",
        "\n",
        "18.In what situations are lists preferred over dictionaries?\n",
        "\n",
        " - For quick data look-ups, configurations, or caches, favor dictionaries. For ordered collections and sequence operations, such as maintaining a stack or queue, lists are more suitable\n",
        "\n",
        " 19.Why are dictionaries considered unordered, and how does that affect data retrieval?\n",
        "\n",
        " - Dictionary in Data Structure - Scaler BlogDictionaries are considered unordered because they don't maintain a specific order for items. This is so that they can be accessed quickly by key, rather than by index.\n",
        "\n",
        "\n",
        "\n",
        "\n",
        "\n",
        "\n",
        "\n",
        "\n",
        "\n",
        "\n",
        "\n",
        "\n",
        "\n",
        "\n",
        "\n"
      ],
      "metadata": {
        "id": "ghKFwERodhsE"
      }
    },
    {
      "cell_type": "code",
      "source": [
        "#Practical Questions\n",
        "1.\n",
        "name = \"Python\"\n",
        "print(name)\n",
        "\n",
        "message = \"I love Python.\"\n",
        "print(message)\n"
      ],
      "metadata": {
        "colab": {
          "base_uri": "https://localhost:8080/"
        },
        "id": "_4lCaGY7oWVQ",
        "outputId": "5fcb6d17-3ee8-4ce5-b979-a44c778dc3f4"
      },
      "execution_count": 1,
      "outputs": [
        {
          "output_type": "stream",
          "name": "stdout",
          "text": [
            "Python\n",
            "I love Python.\n"
          ]
        }
      ]
    },
    {
      "cell_type": "code",
      "source": [
        "2.\n",
        "a = \"Hello World\"\n",
        "len(a)\n",
        "\n"
      ],
      "metadata": {
        "colab": {
          "base_uri": "https://localhost:8080/"
        },
        "id": "ftZ-vzFTo4qY",
        "outputId": "6e33c557-b7af-4cd2-a2e8-c6f036e2cee4"
      },
      "execution_count": 3,
      "outputs": [
        {
          "output_type": "execute_result",
          "data": {
            "text/plain": [
              "11"
            ]
          },
          "metadata": {},
          "execution_count": 3
        }
      ]
    },
    {
      "cell_type": "code",
      "source": [
        "3.\n",
        "s = \"Python Programming\"\n",
        "s2 = s[3:19]\n",
        "\n",
        "print(s2)\n"
      ],
      "metadata": {
        "colab": {
          "base_uri": "https://localhost:8080/"
        },
        "id": "gBieQaqbpO4u",
        "outputId": "91f4cdb0-7259-4f79-ea99-af8a95478c69"
      },
      "execution_count": 7,
      "outputs": [
        {
          "output_type": "stream",
          "name": "stdout",
          "text": [
            "hon Programming\n"
          ]
        }
      ]
    },
    {
      "cell_type": "code",
      "source": [
        "4.\n",
        "a = \"hello\"\n",
        "str.upper(a)"
      ],
      "metadata": {
        "colab": {
          "base_uri": "https://localhost:8080/",
          "height": 35
        },
        "id": "am8i2GQ8p8oJ",
        "outputId": "9ca0c3f5-622a-474b-ff55-29b2072b51e2"
      },
      "execution_count": 15,
      "outputs": [
        {
          "output_type": "execute_result",
          "data": {
            "text/plain": [
              "'HELLO'"
            ],
            "application/vnd.google.colaboratory.intrinsic+json": {
              "type": "string"
            }
          },
          "metadata": {},
          "execution_count": 15
        }
      ]
    },
    {
      "cell_type": "code",
      "source": [
        "5.\n",
        "a = \"I like apple\"\n",
        "a = a.replace(\"apple\", \"orange\")\n",
        "a"
      ],
      "metadata": {
        "colab": {
          "base_uri": "https://localhost:8080/",
          "height": 35
        },
        "id": "bFQcYRCTrIno",
        "outputId": "7405d4e7-22cf-4d6e-8fa3-3136649126bc"
      },
      "execution_count": 20,
      "outputs": [
        {
          "output_type": "execute_result",
          "data": {
            "text/plain": [
              "'I like orange'"
            ],
            "application/vnd.google.colaboratory.intrinsic+json": {
              "type": "string"
            }
          },
          "metadata": {},
          "execution_count": 20
        }
      ]
    },
    {
      "cell_type": "code",
      "source": [
        "6.\n",
        "a = [1,2,3,4,5]\n",
        "print(a)"
      ],
      "metadata": {
        "colab": {
          "base_uri": "https://localhost:8080/"
        },
        "id": "wg8rr3PWr_GB",
        "outputId": "e80282a0-72cd-4801-a6fd-717db8486dcf"
      },
      "execution_count": 24,
      "outputs": [
        {
          "output_type": "stream",
          "name": "stdout",
          "text": [
            "[1, 2, 3, 4, 5]\n"
          ]
        }
      ]
    },
    {
      "cell_type": "code",
      "source": [
        "7.\n",
        "a = [1,2,3,4,5]\n",
        "a.append(10)\n",
        "a"
      ],
      "metadata": {
        "colab": {
          "base_uri": "https://localhost:8080/"
        },
        "id": "6nU4vO5vspLL",
        "outputId": "a722c460-237a-452a-892f-a1abefae27fa"
      },
      "execution_count": 28,
      "outputs": [
        {
          "output_type": "execute_result",
          "data": {
            "text/plain": [
              "[1, 2, 3, 4, 5, 10]"
            ]
          },
          "metadata": {},
          "execution_count": 28
        }
      ]
    },
    {
      "cell_type": "code",
      "source": [
        "8.\n",
        "a = [1,2,3,4,5]\n",
        "a.pop(2)\n",
        "print(a)"
      ],
      "metadata": {
        "colab": {
          "base_uri": "https://localhost:8080/"
        },
        "id": "O5KgusgOtJqc",
        "outputId": "2dbf2c7a-5733-4493-a8cf-bfb5e635f8f8"
      },
      "execution_count": 31,
      "outputs": [
        {
          "output_type": "stream",
          "name": "stdout",
          "text": [
            "[1, 2, 4, 5]\n"
          ]
        }
      ]
    },
    {
      "cell_type": "code",
      "source": [
        "9.\n",
        "a = [\"a\",\"b\",\"c\",\"d\"]\n",
        "a[1]\n"
      ],
      "metadata": {
        "colab": {
          "base_uri": "https://localhost:8080/",
          "height": 35
        },
        "id": "Pr6RF4NwtT7P",
        "outputId": "b7758c09-4cb7-4b00-bdad-3351ae5fc126"
      },
      "execution_count": 34,
      "outputs": [
        {
          "output_type": "execute_result",
          "data": {
            "text/plain": [
              "'b'"
            ],
            "application/vnd.google.colaboratory.intrinsic+json": {
              "type": "string"
            }
          },
          "metadata": {},
          "execution_count": 34
        }
      ]
    },
    {
      "cell_type": "code",
      "source": [
        "10.\n",
        "a = [10, 20, 30, 40, 50]\n",
        "a.reverse()\n",
        "print(a)"
      ],
      "metadata": {
        "colab": {
          "base_uri": "https://localhost:8080/"
        },
        "id": "SFrJE_ylt-fn",
        "outputId": "290551c1-8d8b-4a21-e289-0c6351e0de82"
      },
      "execution_count": 40,
      "outputs": [
        {
          "output_type": "stream",
          "name": "stdout",
          "text": [
            "[50, 40, 30, 20, 10]\n"
          ]
        }
      ]
    },
    {
      "cell_type": "code",
      "source": [
        "11.\n",
        "a = (100,200,300)\n",
        "print(a)"
      ],
      "metadata": {
        "colab": {
          "base_uri": "https://localhost:8080/"
        },
        "id": "Xfb-te86ucX3",
        "outputId": "cc4b2f14-b4f2-4a48-f5a9-067fb8c0b6b6"
      },
      "execution_count": 45,
      "outputs": [
        {
          "output_type": "stream",
          "name": "stdout",
          "text": [
            "(100, 200, 300)\n"
          ]
        }
      ]
    },
    {
      "cell_type": "code",
      "source": [
        "12.\n",
        "a = ('red', 'green', 'blue', 'yellow')\n",
        "print (a[2:4])"
      ],
      "metadata": {
        "colab": {
          "base_uri": "https://localhost:8080/"
        },
        "id": "THSBRyKF8qlU",
        "outputId": "63742fe4-5d41-49f8-c1c2-c4ab5efa97ce"
      },
      "execution_count": 51,
      "outputs": [
        {
          "output_type": "stream",
          "name": "stdout",
          "text": [
            "('blue', 'yellow')\n"
          ]
        }
      ]
    },
    {
      "cell_type": "code",
      "source": [
        "13.\n",
        "a = (10, 20, 5, 15)\n",
        "min(a)"
      ],
      "metadata": {
        "colab": {
          "base_uri": "https://localhost:8080/"
        },
        "id": "ls1IYkb_9Xep",
        "outputId": "6bdc1fd0-cb49-4e9a-ce89-9f46c550d726"
      },
      "execution_count": 53,
      "outputs": [
        {
          "output_type": "execute_result",
          "data": {
            "text/plain": [
              "5"
            ]
          },
          "metadata": {},
          "execution_count": 53
        }
      ]
    },
    {
      "cell_type": "code",
      "source": [
        "14.\n",
        "a = ('dog', 'cat', 'rabbit')\n",
        "a.index('cat')"
      ],
      "metadata": {
        "colab": {
          "base_uri": "https://localhost:8080/"
        },
        "id": "a1F0wZTd9iF2",
        "outputId": "1a0b32bd-2837-44ce-a67c-f92e3c130bfa"
      },
      "execution_count": 57,
      "outputs": [
        {
          "output_type": "execute_result",
          "data": {
            "text/plain": [
              "1"
            ]
          },
          "metadata": {},
          "execution_count": 57
        }
      ]
    },
    {
      "cell_type": "code",
      "source": [
        "15.\n",
        "Fruit = (\"apple\",\"banana\",\"kiwi\")\n",
        "if (\"kiwi\") in Fruit:\n",
        "  print(\"Yes\")\n",
        "else:\n",
        "  print(\"No\")"
      ],
      "metadata": {
        "colab": {
          "base_uri": "https://localhost:8080/"
        },
        "id": "OlHO-_Mv977-",
        "outputId": "0c1a5203-d9ea-4b8e-bf00-6660f538cad4"
      },
      "execution_count": 59,
      "outputs": [
        {
          "output_type": "stream",
          "name": "stdout",
          "text": [
            "Yes\n"
          ]
        }
      ]
    },
    {
      "cell_type": "code",
      "source": [
        "16.\n",
        "a.fromkeys((1,2,3,4),(\"a\",\"b\",\"c\",\"d\"))\n"
      ],
      "metadata": {
        "colab": {
          "base_uri": "https://localhost:8080/",
          "height": 158
        },
        "id": "pTvyh7A1_eAa",
        "outputId": "3c366212-e83f-4c68-a5af-b537c5505428"
      },
      "execution_count": 66,
      "outputs": [
        {
          "output_type": "error",
          "ename": "AttributeError",
          "evalue": "'tuple' object has no attribute 'fromkeys'",
          "traceback": [
            "\u001b[0;31m---------------------------------------------------------------------------\u001b[0m",
            "\u001b[0;31mAttributeError\u001b[0m                            Traceback (most recent call last)",
            "\u001b[0;32m<ipython-input-66-af20bcf90c91>\u001b[0m in \u001b[0;36m<cell line: 0>\u001b[0;34m()\u001b[0m\n\u001b[1;32m      1\u001b[0m \u001b[0;36m16.\u001b[0m\u001b[0;34m\u001b[0m\u001b[0;34m\u001b[0m\u001b[0m\n\u001b[0;32m----> 2\u001b[0;31m \u001b[0ma\u001b[0m\u001b[0;34m.\u001b[0m\u001b[0mfromkeys\u001b[0m\u001b[0;34m(\u001b[0m\u001b[0;34m(\u001b[0m\u001b[0;36m1\u001b[0m\u001b[0;34m,\u001b[0m\u001b[0;36m2\u001b[0m\u001b[0;34m,\u001b[0m\u001b[0;36m3\u001b[0m\u001b[0;34m,\u001b[0m\u001b[0;36m4\u001b[0m\u001b[0;34m)\u001b[0m\u001b[0;34m,\u001b[0m\u001b[0;34m(\u001b[0m\u001b[0;34m\"a\"\u001b[0m\u001b[0;34m,\u001b[0m\u001b[0;34m\"b\"\u001b[0m\u001b[0;34m,\u001b[0m\u001b[0;34m\"c\"\u001b[0m\u001b[0;34m,\u001b[0m\u001b[0;34m\"d\"\u001b[0m\u001b[0;34m)\u001b[0m\u001b[0;34m)\u001b[0m\u001b[0;34m\u001b[0m\u001b[0;34m\u001b[0m\u001b[0m\n\u001b[0m",
            "\u001b[0;31mAttributeError\u001b[0m: 'tuple' object has no attribute 'fromkeys'"
          ]
        }
      ]
    },
    {
      "cell_type": "code",
      "source": [
        "17.\n",
        "a = {1,2,3,4,5}\n",
        "a.clear\n"
      ],
      "metadata": {
        "colab": {
          "base_uri": "https://localhost:8080/"
        },
        "id": "IbwYq8jXAMYq",
        "outputId": "3349f017-a6ca-42ab-d7c3-8178b2e67954"
      },
      "execution_count": 73,
      "outputs": [
        {
          "output_type": "execute_result",
          "data": {
            "text/plain": [
              "<function set.clear>"
            ]
          },
          "metadata": {},
          "execution_count": 73
        }
      ]
    },
    {
      "cell_type": "code",
      "source": [
        "18.\n",
        "a = {1,2,3,4}\n",
        "a.remove(4)\n",
        "print(a)"
      ],
      "metadata": {
        "colab": {
          "base_uri": "https://localhost:8080/"
        },
        "id": "7tFtiTucBs2m",
        "outputId": "c756bb24-5e17-467d-95f4-364456a9ee6d"
      },
      "execution_count": 78,
      "outputs": [
        {
          "output_type": "stream",
          "name": "stdout",
          "text": [
            "{1, 2, 3}\n"
          ]
        }
      ]
    },
    {
      "cell_type": "code",
      "source": [
        "19.\n",
        "set1 = {1, 2, 3}\n",
        "set2 = {3, 4, 5}\n",
        "union_set = set1.union(set2)\n",
        "print(\"Union of the sets:\", union_set)\n"
      ],
      "metadata": {
        "colab": {
          "base_uri": "https://localhost:8080/"
        },
        "id": "isLEI1qRCv7h",
        "outputId": "df04cd03-ca7a-454d-f393-429e7bc6ba8a"
      },
      "execution_count": 80,
      "outputs": [
        {
          "output_type": "stream",
          "name": "stdout",
          "text": [
            "Union of the sets: {1, 2, 3, 4, 5}\n"
          ]
        }
      ]
    },
    {
      "cell_type": "code",
      "source": [
        "21.\n",
        "a = {\"Name\",\"Age\",\"City\"}\n",
        "print(a)"
      ],
      "metadata": {
        "colab": {
          "base_uri": "https://localhost:8080/"
        },
        "id": "UtFtxKXtDBbi",
        "outputId": "2f47d023-cd9a-4342-d177-b7dc99016437"
      },
      "execution_count": 84,
      "outputs": [
        {
          "output_type": "stream",
          "name": "stdout",
          "text": [
            "{'Age', 'Name', 'City'}\n"
          ]
        }
      ]
    },
    {
      "cell_type": "code",
      "source": [
        "22.\n",
        "a = {\"Name\":\"John\",\"Age\":25}\n",
        "a.update({\"Country\":\"USA\"})\n",
        "print(a)"
      ],
      "metadata": {
        "colab": {
          "base_uri": "https://localhost:8080/"
        },
        "id": "xn9mQpsuDQ22",
        "outputId": "8e285170-3740-4a11-b47f-f98ddd25f9d6"
      },
      "execution_count": 90,
      "outputs": [
        {
          "output_type": "stream",
          "name": "stdout",
          "text": [
            "{'Name': 'John', 'Age': 25, 'Country': 'USA'}\n"
          ]
        }
      ]
    },
    {
      "cell_type": "code",
      "source": [
        "23.\n",
        "a = {\"Name\":\"Alice\",\"Age\":30}\n",
        "a[\"Name\"]"
      ],
      "metadata": {
        "colab": {
          "base_uri": "https://localhost:8080/",
          "height": 35
        },
        "id": "aMmth1LSEC4r",
        "outputId": "9ef103e9-f0d1-4dbc-bf98-4d8cdd4248b7"
      },
      "execution_count": 93,
      "outputs": [
        {
          "output_type": "execute_result",
          "data": {
            "text/plain": [
              "'Alice'"
            ],
            "application/vnd.google.colaboratory.intrinsic+json": {
              "type": "string"
            }
          },
          "metadata": {},
          "execution_count": 93
        }
      ]
    },
    {
      "cell_type": "code",
      "source": [
        "24.\n",
        "a = {\"Name\":\"Bob\" ,\"Age\":22,\"City\":\"New York\"}\n",
        "a.pop(\"Age\")\n",
        "print(a)"
      ],
      "metadata": {
        "colab": {
          "base_uri": "https://localhost:8080/"
        },
        "id": "ihnQZ0h5FIfT",
        "outputId": "0a37e749-a008-4df4-fbcf-ee9c3a5a704f"
      },
      "execution_count": 101,
      "outputs": [
        {
          "output_type": "stream",
          "name": "stdout",
          "text": [
            "{'Name': 'Bob', 'City': 'New York'}\n"
          ]
        }
      ]
    },
    {
      "cell_type": "code",
      "source": [
        "25.\n",
        "a = {\"name\":\"Alice\",\"city\":\"Paris\"}\n",
        "(\"city\") in a\n",
        "# a.get(\"city\")"
      ],
      "metadata": {
        "colab": {
          "base_uri": "https://localhost:8080/"
        },
        "id": "wRon2aT-FQM8",
        "outputId": "f3e8ce0a-317d-4514-efec-ba3c556cd5cb"
      },
      "execution_count": 110,
      "outputs": [
        {
          "output_type": "execute_result",
          "data": {
            "text/plain": [
              "True"
            ]
          },
          "metadata": {},
          "execution_count": 110
        }
      ]
    },
    {
      "cell_type": "code",
      "source": [],
      "metadata": {
        "id": "S2nyIda_G1ec"
      },
      "execution_count": null,
      "outputs": []
    }
  ]
}